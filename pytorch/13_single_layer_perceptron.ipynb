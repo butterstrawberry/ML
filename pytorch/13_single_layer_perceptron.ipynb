{
 "cells": [
  {
   "cell_type": "code",
   "execution_count": 1,
   "id": "c2d45fa1",
   "metadata": {},
   "outputs": [],
   "source": [
    "import torch\n",
    "\n",
    "from torch import nn, optim"
   ]
  },
  {
   "cell_type": "code",
   "execution_count": 2,
   "id": "82a17111",
   "metadata": {},
   "outputs": [],
   "source": [
    "device = 'cuda' if torch.cuda.is_available() else 'cpu'\n",
    "\n",
    "torch.manual_seed(777)\n",
    "\n",
    "if device == 'cuda':\n",
    "    torch.cuda.manual_seed_all(777)"
   ]
  },
  {
   "cell_type": "code",
   "execution_count": 3,
   "id": "94925849",
   "metadata": {},
   "outputs": [],
   "source": [
    "X = torch.FloatTensor([[0, 0], [0, 1], [1, 0], [1, 1]]).to(device)\n",
    "Y = torch.FloatTensor([[0], [1], [1], [0]]).to(device)"
   ]
  },
  {
   "cell_type": "code",
   "execution_count": 4,
   "id": "303e97ba",
   "metadata": {},
   "outputs": [],
   "source": [
    "linear = nn.Linear(2, 1, bias=True)\n",
    "sigmoid = nn.Sigmoid()\n",
    "model = nn.Sequential(linear, sigmoid).to(device)"
   ]
  },
  {
   "cell_type": "code",
   "execution_count": 5,
   "id": "c1349d85",
   "metadata": {},
   "outputs": [],
   "source": [
    "criterion = nn.BCELoss().to(device) # binary classification cross entropy function\n",
    "optimizer = optim.SGD(model.parameters(), lr=1)"
   ]
  },
  {
   "cell_type": "code",
   "execution_count": 6,
   "id": "a7e90bec",
   "metadata": {},
   "outputs": [
    {
     "name": "stdout",
     "output_type": "stream",
     "text": [
      "Step: 0000, Cost: 0.727397\n",
      "Step: 0100, Cost: 0.693148\n",
      "Step: 0200, Cost: 0.693147\n",
      "Step: 0300, Cost: 0.693147\n",
      "Step: 0400, Cost: 0.693147\n",
      "Step: 0500, Cost: 0.693147\n",
      "Step: 0600, Cost: 0.693147\n",
      "Step: 0700, Cost: 0.693147\n",
      "Step: 0800, Cost: 0.693147\n",
      "Step: 0900, Cost: 0.693147\n",
      "Step: 1000, Cost: 0.693147\n"
     ]
    }
   ],
   "source": [
    "for step in range(1001):\n",
    "    optimizer.zero_grad()\n",
    "    hypothesis = model(X)\n",
    "    cost = criterion(hypothesis, Y)\n",
    "    cost.backward()\n",
    "    optimizer.step()\n",
    "    \n",
    "    if step % 100 == 0:\n",
    "        print('Step: {:04d}, Cost: {:.6f}'.format(step, cost.item()))"
   ]
  },
  {
   "cell_type": "code",
   "execution_count": 7,
   "id": "d9113c9c",
   "metadata": {},
   "outputs": [
    {
     "name": "stdout",
     "output_type": "stream",
     "text": [
      "Hypothesis : [[0.5]\n",
      " [0.5]\n",
      " [0.5]\n",
      " [0.5]]\n",
      "Predicted : [[0.]\n",
      " [0.]\n",
      " [0.]\n",
      " [0.]]\n",
      "Y : [[0.]\n",
      " [1.]\n",
      " [1.]\n",
      " [0.]]\n",
      "Accuracy : 0.5\n"
     ]
    }
   ],
   "source": [
    "with torch.no_grad():\n",
    "    hypothesis = model(X)\n",
    "    predicted = (hypothesis > 0.5).float()\n",
    "    accuracy = (predicted == Y).float().mean()\n",
    "    print('Hypothesis :', hypothesis.detach().cpu().numpy())\n",
    "    print('Predicted :', predicted.detach().cpu().numpy())\n",
    "    print('Y :', Y.cpu().numpy())\n",
    "    print('Accuracy :', accuracy.item())"
   ]
  }
 ],
 "metadata": {
  "kernelspec": {
   "display_name": "Python 3",
   "language": "python",
   "name": "python3"
  },
  "language_info": {
   "codemirror_mode": {
    "name": "ipython",
    "version": 3
   },
   "file_extension": ".py",
   "mimetype": "text/x-python",
   "name": "python",
   "nbconvert_exporter": "python",
   "pygments_lexer": "ipython3",
   "version": "3.8.8"
  }
 },
 "nbformat": 4,
 "nbformat_minor": 5
}
