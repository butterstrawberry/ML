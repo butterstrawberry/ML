{
 "cells": [
  {
   "cell_type": "code",
   "execution_count": 1,
   "id": "06c8ac3d",
   "metadata": {},
   "outputs": [],
   "source": [
    "import torch\n",
    "import torch.nn as nn\n",
    "import torch.nn.functional as F\n",
    "\n",
    "from torch import optim\n",
    "from torch.utils.data import Dataset, DataLoader"
   ]
  },
  {
   "cell_type": "code",
   "execution_count": 2,
   "id": "94d444ed",
   "metadata": {},
   "outputs": [
    {
     "data": {
      "text/plain": [
       "<torch._C.Generator at 0x1587301c950>"
      ]
     },
     "execution_count": 2,
     "metadata": {},
     "output_type": "execute_result"
    }
   ],
   "source": [
    "torch.manual_seed(1)"
   ]
  },
  {
   "cell_type": "code",
   "execution_count": 3,
   "id": "5c026dfe",
   "metadata": {},
   "outputs": [],
   "source": [
    "class CustomDataset(Dataset):\n",
    "    # 데이터셋의 전처리를 해주는 부분\n",
    "    def __init__(self):\n",
    "        self.x_data = [[73, 80, 75],\n",
    "                   [93, 88, 93],\n",
    "                   [89, 91, 90],\n",
    "                   [96, 98, 100],\n",
    "                   [73, 66, 70]]\n",
    "        self.y_data = [[152], [185], [180], [196], [142]] \n",
    "        \n",
    "    # 총 샘플의 수를 적어주는 부분, len(dataset)을 했을 때 데이터셋의 크기 리턴\n",
    "    def __len__(self):\n",
    "        return len(self.x_data)\n",
    "    \n",
    "    # 데이터셋에서 특정 1개의 샘플을 가져오는 함수, dataset[i]을 했을 때 i번째 샘플을 가져오도록 하는 인덱싱\n",
    "    def __getitem__(self, idx):\n",
    "        x = torch.FloatTensor(self.x_data[idx])\n",
    "        y = torch.FloatTensor(self.y_data[idx])\n",
    "        return x, y"
   ]
  },
  {
   "cell_type": "code",
   "execution_count": 4,
   "id": "34c79b14",
   "metadata": {},
   "outputs": [],
   "source": [
    "class MultiLinearRegModel(nn.Module):\n",
    "    def __init__(self):\n",
    "        super(MultiLinearRegModel, self).__init__()\n",
    "        self.linear = nn.Linear(3, 1)\n",
    "        \n",
    "    def forward(self, x):\n",
    "        return self.linear(x)"
   ]
  },
  {
   "cell_type": "code",
   "execution_count": 5,
   "id": "275669bb",
   "metadata": {},
   "outputs": [],
   "source": [
    "dataset = CustomDataset()\n",
    "\n",
    "dataloader = DataLoader(dataset, batch_size=2, shuffle=True)"
   ]
  },
  {
   "cell_type": "code",
   "execution_count": 6,
   "id": "827e4b5f",
   "metadata": {},
   "outputs": [],
   "source": [
    "model = MultiLinearRegModel()\n",
    "\n",
    "optimizer = optim.SGD(model.parameters(), lr=1e-5)"
   ]
  },
  {
   "cell_type": "code",
   "execution_count": 7,
   "id": "9c8bd441",
   "metadata": {},
   "outputs": [
    {
     "name": "stdout",
     "output_type": "stream",
     "text": [
      "Epoch    0/20 Batch 1/3 Cost: 23071.781250\n",
      "Epoch    0/20 Batch 2/3 Cost: 17581.359375\n",
      "Epoch    0/20 Batch 3/3 Cost: 3703.553467\n",
      "Epoch    1/20 Batch 1/3 Cost: 857.132324\n",
      "Epoch    1/20 Batch 2/3 Cost: 194.912857\n",
      "Epoch    1/20 Batch 3/3 Cost: 103.150658\n",
      "Epoch    2/20 Batch 1/3 Cost: 16.460945\n",
      "Epoch    2/20 Batch 2/3 Cost: 10.970690\n",
      "Epoch    2/20 Batch 3/3 Cost: 2.953053\n",
      "Epoch    3/20 Batch 1/3 Cost: 1.246327\n",
      "Epoch    3/20 Batch 2/3 Cost: 0.095030\n",
      "Epoch    3/20 Batch 3/3 Cost: 0.104387\n",
      "Epoch    4/20 Batch 1/3 Cost: 0.678442\n",
      "Epoch    4/20 Batch 2/3 Cost: 0.123367\n",
      "Epoch    4/20 Batch 3/3 Cost: 0.118070\n",
      "Epoch    5/20 Batch 1/3 Cost: 0.094797\n",
      "Epoch    5/20 Batch 2/3 Cost: 0.531496\n",
      "Epoch    5/20 Batch 3/3 Cost: 0.011195\n",
      "Epoch    6/20 Batch 1/3 Cost: 0.219984\n",
      "Epoch    6/20 Batch 2/3 Cost: 0.042412\n",
      "Epoch    6/20 Batch 3/3 Cost: 0.917457\n",
      "Epoch    7/20 Batch 1/3 Cost: 0.213805\n",
      "Epoch    7/20 Batch 2/3 Cost: 0.640247\n",
      "Epoch    7/20 Batch 3/3 Cost: 0.005267\n",
      "Epoch    8/20 Batch 1/3 Cost: 0.454918\n",
      "Epoch    8/20 Batch 2/3 Cost: 0.011374\n",
      "Epoch    8/20 Batch 3/3 Cost: 0.298705\n",
      "Epoch    9/20 Batch 1/3 Cost: 0.560364\n",
      "Epoch    9/20 Batch 2/3 Cost: 0.011228\n",
      "Epoch    9/20 Batch 3/3 Cost: 0.244160\n",
      "Epoch   10/20 Batch 1/3 Cost: 0.613756\n",
      "Epoch   10/20 Batch 2/3 Cost: 0.024915\n",
      "Epoch   10/20 Batch 3/3 Cost: 0.066373\n",
      "Epoch   11/20 Batch 1/3 Cost: 0.116617\n",
      "Epoch   11/20 Batch 2/3 Cost: 0.045004\n",
      "Epoch   11/20 Batch 3/3 Cost: 0.958807\n",
      "Epoch   12/20 Batch 1/3 Cost: 0.234982\n",
      "Epoch   12/20 Batch 2/3 Cost: 0.154497\n",
      "Epoch   12/20 Batch 3/3 Cost: 0.861088\n",
      "Epoch   13/20 Batch 1/3 Cost: 0.398479\n",
      "Epoch   13/20 Batch 2/3 Cost: 0.304441\n",
      "Epoch   13/20 Batch 3/3 Cost: 0.015355\n",
      "Epoch   14/20 Batch 1/3 Cost: 0.050674\n",
      "Epoch   14/20 Batch 2/3 Cost: 0.482778\n",
      "Epoch   14/20 Batch 3/3 Cost: 0.414241\n",
      "Epoch   15/20 Batch 1/3 Cost: 0.513222\n",
      "Epoch   15/20 Batch 2/3 Cost: 0.068332\n",
      "Epoch   15/20 Batch 3/3 Cost: 0.215187\n",
      "Epoch   16/20 Batch 1/3 Cost: 0.069614\n",
      "Epoch   16/20 Batch 2/3 Cost: 0.052830\n",
      "Epoch   16/20 Batch 3/3 Cost: 1.164131\n",
      "Epoch   17/20 Batch 1/3 Cost: 0.034009\n",
      "Epoch   17/20 Batch 2/3 Cost: 0.486735\n",
      "Epoch   17/20 Batch 3/3 Cost: 0.209240\n",
      "Epoch   18/20 Batch 1/3 Cost: 0.024249\n",
      "Epoch   18/20 Batch 2/3 Cost: 0.129105\n",
      "Epoch   18/20 Batch 3/3 Cost: 1.134458\n",
      "Epoch   19/20 Batch 1/3 Cost: 0.490361\n",
      "Epoch   19/20 Batch 2/3 Cost: 0.154791\n",
      "Epoch   19/20 Batch 3/3 Cost: 0.011797\n",
      "Epoch   20/20 Batch 1/3 Cost: 0.408727\n",
      "Epoch   20/20 Batch 2/3 Cost: 0.194451\n",
      "Epoch   20/20 Batch 3/3 Cost: 0.004536\n"
     ]
    }
   ],
   "source": [
    "nb_epochs = 20\n",
    "for epoch in range(nb_epochs + 1):\n",
    "    for batch_idx, samples in enumerate(dataloader):\n",
    "        x_train, y_train = samples\n",
    "        \n",
    "        optimizer.zero_grad()\n",
    "        hypothesis = model(x_train)\n",
    "        cost = F.mse_loss(hypothesis, y_train)\n",
    "        cost.backward()\n",
    "        optimizer.step()\n",
    "        \n",
    "        print('Epoch {:4d}/{} Batch {}/{} Cost: {:.6f}'.format(\n",
    "            epoch, nb_epochs, batch_idx + 1, len(dataloader), cost.item()\n",
    "        ))"
   ]
  },
  {
   "cell_type": "code",
   "execution_count": 8,
   "id": "b5588007",
   "metadata": {},
   "outputs": [
    {
     "name": "stdout",
     "output_type": "stream",
     "text": [
      "Predicted value after training : 151.08294677734375\n"
     ]
    }
   ],
   "source": [
    "new_var = torch.FloatTensor([[73, 80, 75]])\n",
    "\n",
    "pred_y = model(new_var)\n",
    "\n",
    "print('Predicted value after training :', pred_y.item())"
   ]
  }
 ],
 "metadata": {
  "kernelspec": {
   "display_name": "Python 3",
   "language": "python",
   "name": "python3"
  },
  "language_info": {
   "codemirror_mode": {
    "name": "ipython",
    "version": 3
   },
   "file_extension": ".py",
   "mimetype": "text/x-python",
   "name": "python",
   "nbconvert_exporter": "python",
   "pygments_lexer": "ipython3",
   "version": "3.8.8"
  }
 },
 "nbformat": 4,
 "nbformat_minor": 5
}
