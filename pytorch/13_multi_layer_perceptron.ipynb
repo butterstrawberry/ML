{
 "cells": [
  {
   "cell_type": "code",
   "execution_count": 2,
   "id": "b5bc447c",
   "metadata": {},
   "outputs": [],
   "source": [
    "import torch\n",
    "\n",
    "from torch import nn, optim"
   ]
  },
  {
   "cell_type": "code",
   "execution_count": 4,
   "id": "07bf9626",
   "metadata": {},
   "outputs": [],
   "source": [
    "device = 'cuda' if torch.cuda.is_available() else 'cpu'\n",
    "\n",
    "torch.manual_seed(777)\n",
    "if device == 'cuda':\n",
    "    torch.cuda.manual_seed_all(777)"
   ]
  },
  {
   "cell_type": "code",
   "execution_count": 5,
   "id": "6161a4b6",
   "metadata": {},
   "outputs": [],
   "source": [
    "X = torch.FloatTensor([[0, 0], [0, 1], [1, 0], [1, 1]]).to(device)\n",
    "Y = torch.FloatTensor([[0], [1], [1], [0]]).to(device)"
   ]
  },
  {
   "cell_type": "code",
   "execution_count": 7,
   "id": "c1773fbe",
   "metadata": {},
   "outputs": [],
   "source": [
    "class MutiLayerPerceptronModel(nn.Module):\n",
    "    def __init__(self):\n",
    "        super().__init__()\n",
    "        self.layer = nn.Sequential(\n",
    "            nn.Linear(2, 10),\n",
    "            nn.Sigmoid(), \n",
    "            nn.Linear(10, 10), \n",
    "        \n",
    "            nn.Sigmoid(), \n",
    "            nn.Linear(10, 10), \n",
    "            \n",
    "            nn.Sigmoid(), \n",
    "            nn.Linear(10, 1),\n",
    "            nn.Sigmoid()\n",
    "        )\n",
    "        \n",
    "    def forward(self, x):\n",
    "        return self.layer(x)\n",
    "    \n",
    "# model = nn.Sequential(\n",
    "#             nn.Linear(2, 10),\n",
    "#             nn.Sigmoid(),\n",
    "#             nn.Linear(10, 10),\n",
    "\n",
    "#             nn.Sigmoid(),\n",
    "#             nn.Linear(10, 10),\n",
    "\n",
    "#             nn.Sigmoid(),\n",
    "#             nn.Linear(10, 1),\n",
    "#             nn.Sigmoid()\n",
    "#         ).to(device)"
   ]
  },
  {
   "cell_type": "code",
   "execution_count": 8,
   "id": "3b64fe0c",
   "metadata": {},
   "outputs": [],
   "source": [
    "model = MutiLayerPerceptronModel()\n",
    "criterion = nn.BCELoss().to(device)\n",
    "optimizer = optim.SGD(model.parameters(), lr=1)"
   ]
  },
  {
   "cell_type": "code",
   "execution_count": 10,
   "id": "a50e140a",
   "metadata": {},
   "outputs": [
    {
     "name": "stdout",
     "output_type": "stream",
     "text": [
      "Epoch 00000, Cost: 0.000315\n",
      "Epoch 01000, Cost: 0.000217\n",
      "Epoch 02000, Cost: 0.000164\n",
      "Epoch 03000, Cost: 0.000132\n",
      "Epoch 04000, Cost: 0.000110\n",
      "Epoch 05000, Cost: 0.000094\n",
      "Epoch 06000, Cost: 0.000082\n",
      "Epoch 07000, Cost: 0.000072\n"
     ]
    }
   ],
   "source": [
    "for epoch in range(7801):\n",
    "    \n",
    "    optimizer.zero_grad()\n",
    "    hypothesis = model(X)\n",
    "    cost = criterion(hypothesis, Y)\n",
    "    cost.backward()\n",
    "    optimizer.step()\n",
    "    \n",
    "    if epoch % 1000 == 0:\n",
    "        print('Epoch {:05d}, Cost: {:.6f}'.format(epoch, cost.item()))"
   ]
  },
  {
   "cell_type": "code",
   "execution_count": 11,
   "id": "cf55803b",
   "metadata": {},
   "outputs": [
    {
     "name": "stdout",
     "output_type": "stream",
     "text": [
      "Hypothesis : [[4.7401376e-05]\n",
      " [9.9992716e-01]\n",
      " [9.9993300e-01]\n",
      " [7.7828867e-05]]\n",
      "Predicted : [[0.]\n",
      " [1.]\n",
      " [1.]\n",
      " [0.]]\n",
      "Y : [[0.]\n",
      " [1.]\n",
      " [1.]\n",
      " [0.]]\n",
      "Accuracy : 1.0\n"
     ]
    }
   ],
   "source": [
    "with torch.no_grad():\n",
    "    hypothesis = model(X)\n",
    "    predicted = (hypothesis > 0.5).float()\n",
    "    accuracy = (predicted == Y).float().mean()\n",
    "    print('Hypothesis :', hypothesis.detach().cpu().numpy())\n",
    "    print('Predicted :', predicted.detach().cpu().numpy())\n",
    "    print('Y :', Y.cpu().numpy())\n",
    "    print('Accuracy :', accuracy.item())"
   ]
  },
  {
   "cell_type": "code",
   "execution_count": 12,
   "id": "1882ade5",
   "metadata": {},
   "outputs": [],
   "source": [
    "from torch.utils.data import Dataset, DataLoader"
   ]
  },
  {
   "cell_type": "code",
   "execution_count": 13,
   "id": "f185e1d2",
   "metadata": {},
   "outputs": [],
   "source": [
    "device = 'cuda' if torch.cuda.is_available() else 'cpu'\n",
    "torch.manual_seed(1)\n",
    "if device == 'cuda':\n",
    "    torch.cuda.manual_seed(1)"
   ]
  },
  {
   "cell_type": "code",
   "execution_count": 14,
   "id": "c10a4e8d",
   "metadata": {},
   "outputs": [],
   "source": [
    "class TestDataset(Dataset):\n",
    "    def __init__(self):\n",
    "        self.x_data = torch.FloatTensor([[0, 0], \n",
    "                                         [0, 1], \n",
    "                                         [1, 0], \n",
    "                                         [1, 1]]).to(device)\n",
    "        self.y_data = torch.FloatTensor([[0], [1], [1], [0]]).to(device)\n",
    "\n",
    "    def __len__(self):\n",
    "        return len(self.x_data)\n",
    "\n",
    "    def __getitem__(self, idx):\n",
    "        x = self.x_data[idx]\n",
    "        y = self.y_data[idx]\n",
    "        return x, y"
   ]
  },
  {
   "cell_type": "code",
   "execution_count": 15,
   "id": "1a4771cb",
   "metadata": {},
   "outputs": [],
   "source": [
    "class TestModel(nn.Module):\n",
    "    def __init__(self):\n",
    "        super(TestModel, self).__init__()\n",
    "        self.layer = nn.Sequential(\n",
    "            nn.Linear(2, 10),\n",
    "            nn.Sigmoid(),\n",
    "            nn.Linear(10, 10),\n",
    "\n",
    "            nn.Sigmoid(),\n",
    "            nn.Linear(10, 10),\n",
    "\n",
    "            nn.Sigmoid(),\n",
    "            nn.Linear(10, 1),\n",
    "            nn.Sigmoid()\n",
    "        )\n",
    "\n",
    "    def forward(self, x):\n",
    "        return self.layer(x)"
   ]
  },
  {
   "cell_type": "code",
   "execution_count": 16,
   "id": "492454bb",
   "metadata": {},
   "outputs": [],
   "source": [
    "dataset = TestDataset()\n",
    "dataloader = DataLoader(dataset, batch_size=4, shuffle=True)"
   ]
  },
  {
   "cell_type": "code",
   "execution_count": 17,
   "id": "449f315e",
   "metadata": {},
   "outputs": [],
   "source": [
    "model = TestModel().to(device)\n",
    "criterion = nn.BCELoss().to(device)\n",
    "optimizer = optim.SGD(model.parameters(), lr=1)"
   ]
  },
  {
   "cell_type": "code",
   "execution_count": 18,
   "id": "246fc87d",
   "metadata": {},
   "outputs": [
    {
     "name": "stdout",
     "output_type": "stream",
     "text": [
      "Epoch     0/10000 Batch 1/1 Cost: 0.7319\n",
      "Epoch   100/10000 Batch 1/1 Cost: 0.6931\n",
      "Epoch   200/10000 Batch 1/1 Cost: 0.6931\n",
      "Epoch   300/10000 Batch 1/1 Cost: 0.6931\n",
      "Epoch   400/10000 Batch 1/1 Cost: 0.6931\n",
      "Epoch   500/10000 Batch 1/1 Cost: 0.6931\n",
      "Epoch   600/10000 Batch 1/1 Cost: 0.6931\n",
      "Epoch   700/10000 Batch 1/1 Cost: 0.6931\n",
      "Epoch   800/10000 Batch 1/1 Cost: 0.6931\n",
      "Epoch   900/10000 Batch 1/1 Cost: 0.6931\n",
      "Epoch  1000/10000 Batch 1/1 Cost: 0.6931\n",
      "Epoch  1100/10000 Batch 1/1 Cost: 0.6931\n",
      "Epoch  1200/10000 Batch 1/1 Cost: 0.6931\n",
      "Epoch  1300/10000 Batch 1/1 Cost: 0.6931\n",
      "Epoch  1400/10000 Batch 1/1 Cost: 0.6931\n",
      "Epoch  1500/10000 Batch 1/1 Cost: 0.6931\n",
      "Epoch  1600/10000 Batch 1/1 Cost: 0.6931\n",
      "Epoch  1700/10000 Batch 1/1 Cost: 0.6931\n",
      "Epoch  1800/10000 Batch 1/1 Cost: 0.6931\n",
      "Epoch  1900/10000 Batch 1/1 Cost: 0.6931\n",
      "Epoch  2000/10000 Batch 1/1 Cost: 0.6931\n",
      "Epoch  2100/10000 Batch 1/1 Cost: 0.6931\n",
      "Epoch  2200/10000 Batch 1/1 Cost: 0.6931\n",
      "Epoch  2300/10000 Batch 1/1 Cost: 0.6931\n",
      "Epoch  2400/10000 Batch 1/1 Cost: 0.6931\n",
      "Epoch  2500/10000 Batch 1/1 Cost: 0.6931\n",
      "Epoch  2600/10000 Batch 1/1 Cost: 0.6931\n",
      "Epoch  2700/10000 Batch 1/1 Cost: 0.6931\n",
      "Epoch  2800/10000 Batch 1/1 Cost: 0.6931\n",
      "Epoch  2900/10000 Batch 1/1 Cost: 0.6931\n",
      "Epoch  3000/10000 Batch 1/1 Cost: 0.6931\n",
      "Epoch  3100/10000 Batch 1/1 Cost: 0.6931\n",
      "Epoch  3200/10000 Batch 1/1 Cost: 0.6930\n",
      "Epoch  3300/10000 Batch 1/1 Cost: 0.6930\n",
      "Epoch  3400/10000 Batch 1/1 Cost: 0.6930\n",
      "Epoch  3500/10000 Batch 1/1 Cost: 0.6930\n",
      "Epoch  3600/10000 Batch 1/1 Cost: 0.6930\n",
      "Epoch  3700/10000 Batch 1/1 Cost: 0.6930\n",
      "Epoch  3800/10000 Batch 1/1 Cost: 0.6929\n",
      "Epoch  3900/10000 Batch 1/1 Cost: 0.6929\n",
      "Epoch  4000/10000 Batch 1/1 Cost: 0.6928\n",
      "Epoch  4100/10000 Batch 1/1 Cost: 0.6927\n",
      "Epoch  4200/10000 Batch 1/1 Cost: 0.6926\n",
      "Epoch  4300/10000 Batch 1/1 Cost: 0.6924\n",
      "Epoch  4400/10000 Batch 1/1 Cost: 0.6921\n",
      "Epoch  4500/10000 Batch 1/1 Cost: 0.6915\n",
      "Epoch  4600/10000 Batch 1/1 Cost: 0.6904\n",
      "Epoch  4700/10000 Batch 1/1 Cost: 0.6877\n",
      "Epoch  4800/10000 Batch 1/1 Cost: 0.6774\n",
      "Epoch  4900/10000 Batch 1/1 Cost: 0.6011\n",
      "Epoch  5000/10000 Batch 1/1 Cost: 0.4329\n",
      "Epoch  5100/10000 Batch 1/1 Cost: 0.0229\n",
      "Epoch  5200/10000 Batch 1/1 Cost: 0.0077\n",
      "Epoch  5300/10000 Batch 1/1 Cost: 0.0043\n",
      "Epoch  5400/10000 Batch 1/1 Cost: 0.0029\n",
      "Epoch  5500/10000 Batch 1/1 Cost: 0.0022\n",
      "Epoch  5600/10000 Batch 1/1 Cost: 0.0017\n",
      "Epoch  5700/10000 Batch 1/1 Cost: 0.0014\n",
      "Epoch  5800/10000 Batch 1/1 Cost: 0.0012\n",
      "Epoch  5900/10000 Batch 1/1 Cost: 0.0011\n",
      "Epoch  6000/10000 Batch 1/1 Cost: 0.0009\n",
      "Epoch  6100/10000 Batch 1/1 Cost: 0.0008\n",
      "Epoch  6200/10000 Batch 1/1 Cost: 0.0007\n",
      "Epoch  6300/10000 Batch 1/1 Cost: 0.0007\n",
      "Epoch  6400/10000 Batch 1/1 Cost: 0.0006\n",
      "Epoch  6500/10000 Batch 1/1 Cost: 0.0006\n",
      "Epoch  6600/10000 Batch 1/1 Cost: 0.0005\n",
      "Epoch  6700/10000 Batch 1/1 Cost: 0.0005\n",
      "Epoch  6800/10000 Batch 1/1 Cost: 0.0005\n",
      "Epoch  6900/10000 Batch 1/1 Cost: 0.0004\n",
      "Epoch  7000/10000 Batch 1/1 Cost: 0.0004\n",
      "Epoch  7100/10000 Batch 1/1 Cost: 0.0004\n",
      "Epoch  7200/10000 Batch 1/1 Cost: 0.0004\n",
      "Epoch  7300/10000 Batch 1/1 Cost: 0.0004\n",
      "Epoch  7400/10000 Batch 1/1 Cost: 0.0003\n",
      "Epoch  7500/10000 Batch 1/1 Cost: 0.0003\n",
      "Epoch  7600/10000 Batch 1/1 Cost: 0.0003\n",
      "Epoch  7700/10000 Batch 1/1 Cost: 0.0003\n",
      "Epoch  7800/10000 Batch 1/1 Cost: 0.0003\n",
      "Epoch  7900/10000 Batch 1/1 Cost: 0.0003\n",
      "Epoch  8000/10000 Batch 1/1 Cost: 0.0003\n",
      "Epoch  8100/10000 Batch 1/1 Cost: 0.0002\n",
      "Epoch  8200/10000 Batch 1/1 Cost: 0.0002\n",
      "Epoch  8300/10000 Batch 1/1 Cost: 0.0002\n",
      "Epoch  8400/10000 Batch 1/1 Cost: 0.0002\n",
      "Epoch  8500/10000 Batch 1/1 Cost: 0.0002\n",
      "Epoch  8600/10000 Batch 1/1 Cost: 0.0002\n",
      "Epoch  8700/10000 Batch 1/1 Cost: 0.0002\n",
      "Epoch  8800/10000 Batch 1/1 Cost: 0.0002\n",
      "Epoch  8900/10000 Batch 1/1 Cost: 0.0002\n",
      "Epoch  9000/10000 Batch 1/1 Cost: 0.0002\n",
      "Epoch  9100/10000 Batch 1/1 Cost: 0.0002\n",
      "Epoch  9200/10000 Batch 1/1 Cost: 0.0002\n",
      "Epoch  9300/10000 Batch 1/1 Cost: 0.0002\n",
      "Epoch  9400/10000 Batch 1/1 Cost: 0.0002\n",
      "Epoch  9500/10000 Batch 1/1 Cost: 0.0002\n",
      "Epoch  9600/10000 Batch 1/1 Cost: 0.0002\n",
      "Epoch  9700/10000 Batch 1/1 Cost: 0.0002\n",
      "Epoch  9800/10000 Batch 1/1 Cost: 0.0002\n",
      "Epoch  9900/10000 Batch 1/1 Cost: 0.0001\n",
      "Epoch 10000/10000 Batch 1/1 Cost: 0.0001\n"
     ]
    }
   ],
   "source": [
    "nb_epochs = 10000\n",
    "for epoch in range(nb_epochs + 1):\n",
    "    for batch_idx, samples in enumerate(dataloader):\n",
    "        x_train, y_train = samples\n",
    "\n",
    "        optimizer.zero_grad()\n",
    "        hypothesis = model(x_train)\n",
    "        cost = criterion(hypothesis, y_train)\n",
    "        cost.backward()\n",
    "        optimizer.step()\n",
    "\n",
    "        if epoch % 100 == 0:\n",
    "            print('Epoch {:5d}/{} Batch {}/{} Cost: {:.4f}'.format(\n",
    "                epoch, nb_epochs, batch_idx + 1, len(dataloader), cost.item()))"
   ]
  },
  {
   "cell_type": "code",
   "execution_count": 19,
   "id": "18883ccc",
   "metadata": {},
   "outputs": [
    {
     "name": "stdout",
     "output_type": "stream",
     "text": [
      "Hypothesis : [[1.1827720e-04]\n",
      " [9.9986887e-01]\n",
      " [9.9983013e-01]\n",
      " [1.6409562e-04]]\n",
      "Predicted : [[0.]\n",
      " [1.]\n",
      " [1.]\n",
      " [0.]]\n",
      "Y : [[0.]\n",
      " [1.]\n",
      " [1.]\n",
      " [0.]]\n",
      "Accuracy : 1.0\n"
     ]
    }
   ],
   "source": [
    "with torch.no_grad():\n",
    "    hypothesis = model(x_train)\n",
    "    predicted = (hypothesis > 0.5).float()\n",
    "    accuracy = (predicted == y_train).float().mean()\n",
    "    print('Hypothesis :', hypothesis.detach().cpu().numpy())\n",
    "    print('Predicted :', predicted.detach().cpu().numpy())\n",
    "    print('Y :', y_train.cpu().numpy())\n",
    "    print('Accuracy :', accuracy.item())"
   ]
  }
 ],
 "metadata": {
  "kernelspec": {
   "display_name": "Python 3",
   "language": "python",
   "name": "python3"
  },
  "language_info": {
   "codemirror_mode": {
    "name": "ipython",
    "version": 3
   },
   "file_extension": ".py",
   "mimetype": "text/x-python",
   "name": "python",
   "nbconvert_exporter": "python",
   "pygments_lexer": "ipython3",
   "version": "3.8.8"
  }
 },
 "nbformat": 4,
 "nbformat_minor": 5
}
