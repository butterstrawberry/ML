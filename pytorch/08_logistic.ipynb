{
 "cells": [
  {
   "cell_type": "code",
   "execution_count": 1,
   "id": "04dc7d66",
   "metadata": {},
   "outputs": [],
   "source": [
    "import torch\n",
    "import torch.nn as nn\n",
    "import torch.nn.functional as F\n",
    "\n",
    "from torch import optim"
   ]
  },
  {
   "cell_type": "code",
   "execution_count": 2,
   "id": "8fa7df85",
   "metadata": {},
   "outputs": [
    {
     "data": {
      "text/plain": [
       "<torch._C.Generator at 0x2234ff2f990>"
      ]
     },
     "execution_count": 2,
     "metadata": {},
     "output_type": "execute_result"
    }
   ],
   "source": [
    "torch.manual_seed(1)"
   ]
  },
  {
   "cell_type": "code",
   "execution_count": 3,
   "id": "06b0624c",
   "metadata": {},
   "outputs": [],
   "source": [
    "x_data = [[1, 2], [2, 3], [3, 1], [4, 3], [5, 3], [6, 2]]\n",
    "y_data = [[0], [0], [0], [1], [1], [1]]\n",
    "\n",
    "x_train = torch.FloatTensor(x_data)\n",
    "y_train = torch.FloatTensor(y_data)\n",
    "\n",
    "# W = torch.zeros((2, 1), requires_grad=True)\n",
    "# b = torch.zeros(1, requires_grad=True)"
   ]
  },
  {
   "cell_type": "code",
   "execution_count": 4,
   "id": "e18670cb",
   "metadata": {},
   "outputs": [],
   "source": [
    "# model = nn.Sequential(\n",
    "#     nn.Linear(2, 1),\n",
    "#     nn.Sigmoid()\n",
    "# )\n",
    "\n",
    "class BinaryClassifier(nn.Module):\n",
    "    def __init__(self):\n",
    "        super(BinaryClassifier, self).__init__()\n",
    "        self.layer = nn.Sequential(\n",
    "            nn.Linear(2, 1),\n",
    "            nn.Sigmoid()\n",
    "        )\n",
    "        # self.linear = nn.Linear(2, 1)\n",
    "        # self.sigmoid = nn.Sigmoid()\n",
    "        \n",
    "    def forward(self, x):\n",
    "        return self.layer(x)\n",
    "        # return self.sigmoid(self.linear(x))"
   ]
  },
  {
   "cell_type": "code",
   "execution_count": 5,
   "id": "25d38d35",
   "metadata": {},
   "outputs": [],
   "source": [
    "model = BinaryClassifier()\n",
    "\n",
    "# optimizer = optim.SGD([W, b], lr=1)\n",
    "\n",
    "optimizer = optim.SGD(model.parameters(), lr=1)"
   ]
  },
  {
   "cell_type": "code",
   "execution_count": 6,
   "id": "95725542",
   "metadata": {},
   "outputs": [
    {
     "name": "stdout",
     "output_type": "stream",
     "text": [
      "Epoch    0/200 Cost: 0.539713 Accuracy:  83.33%\n",
      "Epoch   10/200 Cost: 0.614851 Accuracy:  66.67%\n",
      "Epoch   20/200 Cost: 0.441875 Accuracy:  66.67%\n",
      "Epoch   30/200 Cost: 0.373145 Accuracy:  83.33%\n",
      "Epoch   40/200 Cost: 0.316358 Accuracy:  83.33%\n",
      "Epoch   50/200 Cost: 0.266094 Accuracy:  83.33%\n",
      "Epoch   60/200 Cost: 0.220498 Accuracy: 100.00%\n",
      "Epoch   70/200 Cost: 0.182095 Accuracy: 100.00%\n",
      "Epoch   80/200 Cost: 0.157299 Accuracy: 100.00%\n",
      "Epoch   90/200 Cost: 0.144091 Accuracy: 100.00%\n",
      "Epoch  100/200 Cost: 0.134272 Accuracy: 100.00%\n",
      "Epoch  110/200 Cost: 0.125769 Accuracy: 100.00%\n",
      "Epoch  120/200 Cost: 0.118297 Accuracy: 100.00%\n",
      "Epoch  130/200 Cost: 0.111680 Accuracy: 100.00%\n",
      "Epoch  140/200 Cost: 0.105779 Accuracy: 100.00%\n",
      "Epoch  150/200 Cost: 0.100483 Accuracy: 100.00%\n",
      "Epoch  160/200 Cost: 0.095704 Accuracy: 100.00%\n",
      "Epoch  170/200 Cost: 0.091369 Accuracy: 100.00%\n",
      "Epoch  180/200 Cost: 0.087420 Accuracy: 100.00%\n",
      "Epoch  190/200 Cost: 0.083806 Accuracy: 100.00%\n",
      "Epoch  200/200 Cost: 0.080486 Accuracy: 100.00%\n"
     ]
    }
   ],
   "source": [
    "nb_epochs = 200\n",
    "for epoch in range(nb_epochs + 1):\n",
    "    \n",
    "    # hypothesis = torch.sigmoid(x_train.matmul(W) + b)\n",
    "    # cost = -(y_train * torch.log(hypothesis) + (1 - y_train) * torch.log(1 - hypothesis)).mean()\n",
    "    \n",
    "    optimizer.zero_grad()\n",
    "    hypothesis = model(x_train)\n",
    "    cost = F.binary_cross_entropy(hypothesis, y_train)\n",
    "    cost.backward()\n",
    "    optimizer.step()\n",
    "    \n",
    "    if epoch % 10 == 0:\n",
    "        # 예측값이 0.5를 넘으면 True로 간주\n",
    "        prediction = hypothesis >= torch.FloatTensor([0.5])\n",
    "        # 실제값과 일치하는 경우만 True로 간주\n",
    "        correct_prediction = prediction.float() == y_train\n",
    "        # 정확도를 계산\n",
    "        accuracy = correct_prediction.sum().item() / len(correct_prediction)\n",
    "        \n",
    "        # 각 에포크마다 정확도를 출력\n",
    "        print('Epoch {:4d}/{} Cost: {:.6f} Accuracy: {:6.2f}%'.format(\n",
    "            epoch, nb_epochs, cost.item(), accuracy * 100,\n",
    "        ))"
   ]
  }
 ],
 "metadata": {
  "kernelspec": {
   "display_name": "Python 3",
   "language": "python",
   "name": "python3"
  },
  "language_info": {
   "codemirror_mode": {
    "name": "ipython",
    "version": 3
   },
   "file_extension": ".py",
   "mimetype": "text/x-python",
   "name": "python",
   "nbconvert_exporter": "python",
   "pygments_lexer": "ipython3",
   "version": "3.8.8"
  }
 },
 "nbformat": 4,
 "nbformat_minor": 5
}
