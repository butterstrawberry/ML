{
 "cells": [
  {
   "cell_type": "code",
   "execution_count": 1,
   "id": "9aade99f",
   "metadata": {},
   "outputs": [],
   "source": [
    "import torch\n",
    "import torch.nn as nn\n",
    "import torch.nn.functional as F\n",
    "\n",
    "from torch import optim"
   ]
  },
  {
   "cell_type": "code",
   "execution_count": 2,
   "id": "971df7a9",
   "metadata": {},
   "outputs": [
    {
     "data": {
      "text/plain": [
       "<torch._C.Generator at 0x290acc5d990>"
      ]
     },
     "execution_count": 2,
     "metadata": {},
     "output_type": "execute_result"
    }
   ],
   "source": [
    "torch.manual_seed(1)"
   ]
  },
  {
   "cell_type": "code",
   "execution_count": 3,
   "id": "eef3bf4e",
   "metadata": {},
   "outputs": [],
   "source": [
    "# x1_train = torch.FloatTensor([[73], [93], [89], [96], [73]])\n",
    "# x2_train = torch.FloatTensor([[80], [88], [91], [98], [66]])\n",
    "# x3_train = torch.FloatTensor([[75], [93], [90], [100], [70]])\n",
    "# y_train = torch.FloatTensor([[152], [185], [180], [196], [142]])\n",
    "\n",
    "x_train = torch.FloatTensor([[73, 80, 75],\n",
    "                             [93, 88, 93],\n",
    "                             [89, 91, 90],\n",
    "                             [96, 98, 100],\n",
    "                             [73, 66, 70]])\n",
    "y_train = torch.FloatTensor([[152], [185], [180], [196], [142]])"
   ]
  },
  {
   "cell_type": "code",
   "execution_count": 4,
   "id": "3ea688e9",
   "metadata": {},
   "outputs": [],
   "source": [
    "# w1 = torch.zeros(1, requires_grad=True)\n",
    "# w2 = torch.zeros(1, requires_grad=True)\n",
    "# w3 = torch.zeros(1, requires_grad=True)\n",
    "# b = torch.zeros(1, requires_grad=True)\n",
    "\n",
    "model = nn.Linear(3, 1)"
   ]
  },
  {
   "cell_type": "code",
   "execution_count": 5,
   "id": "dfc96a7c",
   "metadata": {},
   "outputs": [],
   "source": [
    "# optimizer = optim.SGD([w1, w2, w3, b], lr=le-5)\n",
    "\n",
    "optimizer = optim.SGD(model.parameters(), lr=1e-5)"
   ]
  },
  {
   "cell_type": "code",
   "execution_count": 6,
   "id": "3eb09c1b",
   "metadata": {},
   "outputs": [
    {
     "name": "stdout",
     "output_type": "stream",
     "text": [
      "Epoch     0/90000 Cost: 31667.599609\n",
      "Epoch 10000/90000 Cost: 0.177894\n",
      "Epoch 20000/90000 Cost: 0.170423\n",
      "Epoch 30000/90000 Cost: 0.165901\n",
      "Epoch 40000/90000 Cost: 0.163089\n",
      "Epoch 50000/90000 Cost: 0.161335\n",
      "Epoch 60000/90000 Cost: 0.160233\n",
      "Epoch 70000/90000 Cost: 0.159521\n",
      "Epoch 80000/90000 Cost: 0.159050\n",
      "Epoch 90000/90000 Cost: 0.158742\n"
     ]
    }
   ],
   "source": [
    "nb_epochs = 90000\n",
    "for epoch in range(nb_epochs + 1):\n",
    "\n",
    "    # hypothesis = x1_train * w1 + x2_train * w2 + x3_train * w3 + b\n",
    "    # cost = torch.mean((hypothesis - y_train) ** 2)\n",
    "\n",
    "    optimizer.zero_grad()\n",
    "    prediction = model(x_train) # model.forward(x_train)과 동일\n",
    "    cost = F.mse_loss(prediction, y_train)\n",
    "    cost.backward()\n",
    "    optimizer.step()\n",
    "\n",
    "    if epoch % 10000 == 0:\n",
    "        print('Epoch {:5d}/{} Cost: {:.6f}'.format(\n",
    "            epoch, nb_epochs, cost.item()\n",
    "        ))"
   ]
  },
  {
   "cell_type": "code",
   "execution_count": 7,
   "id": "02139c8d",
   "metadata": {},
   "outputs": [
    {
     "name": "stdout",
     "output_type": "stream",
     "text": [
      "\n",
      "훈련 후 입력이 73, 80, 75일 때의 예측값 151.528:\n",
      "\n",
      "[Parameter containing:\n",
      "tensor([[1.0288, 0.5129, 0.4678]], requires_grad=True), Parameter containing:\n",
      "tensor([0.3162], requires_grad=True)]\n"
     ]
    }
   ],
   "source": [
    "new_var = torch.FloatTensor([[73, 80, 75]])\n",
    "\n",
    "pred_y = model(new_var)\n",
    "print(\"\\n훈련 후 입력이 73, 80, 75일 때의 예측값 {:.3f}:\".format(pred_y.item())) \n",
    "print()\n",
    "print(list(model.parameters()))"
   ]
  }
 ],
 "metadata": {
  "kernelspec": {
   "display_name": "Python 3",
   "language": "python",
   "name": "python3"
  },
  "language_info": {
   "codemirror_mode": {
    "name": "ipython",
    "version": 3
   },
   "file_extension": ".py",
   "mimetype": "text/x-python",
   "name": "python",
   "nbconvert_exporter": "python",
   "pygments_lexer": "ipython3",
   "version": "3.8.8"
  }
 },
 "nbformat": 4,
 "nbformat_minor": 5
}
