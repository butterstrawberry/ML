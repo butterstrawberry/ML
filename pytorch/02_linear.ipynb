{
 "cells": [
  {
   "cell_type": "code",
   "execution_count": 1,
   "id": "f2f70c77",
   "metadata": {},
   "outputs": [],
   "source": [
    "import torch\n",
    "import torch.nn as nn\n",
    "import torch.nn.functional as F\n",
    "\n",
    "from torch import optim"
   ]
  },
  {
   "cell_type": "code",
   "execution_count": 2,
   "id": "160aa3f6",
   "metadata": {},
   "outputs": [
    {
     "data": {
      "text/plain": [
       "<torch._C.Generator at 0x234b7e20990>"
      ]
     },
     "execution_count": 2,
     "metadata": {},
     "output_type": "execute_result"
    }
   ],
   "source": [
    "torch.manual_seed(1)"
   ]
  },
  {
   "cell_type": "code",
   "execution_count": 3,
   "id": "25c32fa4",
   "metadata": {},
   "outputs": [],
   "source": [
    "# 데이터\n",
    "x_train = torch.FloatTensor([[1], [2], [3]])\n",
    "y_train = torch.FloatTensor([[2], [4], [6]])"
   ]
  },
  {
   "cell_type": "code",
   "execution_count": 4,
   "id": "1b99463f",
   "metadata": {},
   "outputs": [],
   "source": [
    "# 모델 초기화  \n",
    "# W = torch.zeros(1, requires_grad=True)  \n",
    "# b = torch.zeros(1, requires-grad=True)\n",
    "\n",
    "model = nn.Linear(1, 1)"
   ]
  },
  {
   "cell_type": "code",
   "execution_count": 5,
   "id": "14311d05",
   "metadata": {},
   "outputs": [],
   "source": [
    "# optimizer 설정\n",
    "# optimizer = optim.SGD([W, b], lr=0.01)\n",
    "\n",
    "optimizer = optim.SGD(model.parameters(), lr=0.01)"
   ]
  },
  {
   "cell_type": "code",
   "execution_count": 6,
   "id": "d8fb9819",
   "metadata": {},
   "outputs": [
    {
     "name": "stdout",
     "output_type": "stream",
     "text": [
      "Epoch    0/3000 Cost: 13.103541\n",
      "Epoch  100/3000 Cost: 0.002791\n",
      "Epoch  200/3000 Cost: 0.001724\n",
      "Epoch  300/3000 Cost: 0.001066\n",
      "Epoch  400/3000 Cost: 0.000658\n",
      "Epoch  500/3000 Cost: 0.000407\n",
      "Epoch  600/3000 Cost: 0.000251\n",
      "Epoch  700/3000 Cost: 0.000155\n",
      "Epoch  800/3000 Cost: 0.000096\n",
      "Epoch  900/3000 Cost: 0.000059\n",
      "Epoch 1000/3000 Cost: 0.000037\n",
      "Epoch 1100/3000 Cost: 0.000023\n",
      "Epoch 1200/3000 Cost: 0.000014\n",
      "Epoch 1300/3000 Cost: 0.000009\n",
      "Epoch 1400/3000 Cost: 0.000005\n",
      "Epoch 1500/3000 Cost: 0.000003\n",
      "Epoch 1600/3000 Cost: 0.000002\n",
      "Epoch 1700/3000 Cost: 0.000001\n",
      "Epoch 1800/3000 Cost: 0.000001\n",
      "Epoch 1900/3000 Cost: 0.000000\n",
      "Epoch 2000/3000 Cost: 0.000000\n",
      "Epoch 2100/3000 Cost: 0.000000\n",
      "Epoch 2200/3000 Cost: 0.000000\n",
      "Epoch 2300/3000 Cost: 0.000000\n",
      "Epoch 2400/3000 Cost: 0.000000\n",
      "Epoch 2500/3000 Cost: 0.000000\n",
      "Epoch 2600/3000 Cost: 0.000000\n",
      "Epoch 2700/3000 Cost: 0.000000\n",
      "Epoch 2800/3000 Cost: 0.000000\n",
      "Epoch 2900/3000 Cost: 0.000000\n",
      "Epoch 3000/3000 Cost: 0.000000\n"
     ]
    }
   ],
   "source": [
    "nb_epochs = 3000\n",
    "for epoch in range(nb_epochs + 1):\n",
    "    \n",
    "    # hypothesis = x_train * W + b\n",
    "    # cost = torch.mean((hypothesis - y_train) ** 2)\n",
    "    \n",
    "    optimizer.zero_grad()                  # gradient를 0으로 초기화\n",
    "    prediction = model(x_train)\n",
    "    cost = F.mse_loss(prediction, y_train) # 평균 제곱 오차 함수\n",
    "    cost.backward()                        # 비용 함수를 미분하여 gradient 계산\n",
    "    optimizer.step()                       # W와 b를 업데이트 <- 학습률을 곱해서 업데이트\n",
    "    \n",
    "    if epoch % 100 == 0:\n",
    "        print('Epoch {:4d}/{} Cost: {:.6f}'.format(\n",
    "            epoch, nb_epochs, cost.item()\n",
    "        ))"
   ]
  },
  {
   "cell_type": "code",
   "execution_count": 7,
   "id": "0357d505",
   "metadata": {},
   "outputs": [
    {
     "name": "stdout",
     "output_type": "stream",
     "text": [
      "\n",
      "훈련 후 입력이 4일 때의 예측값 : tensor([[7.9999]], grad_fn=<AddmmBackward>)\n",
      "\n",
      "[Parameter containing:\n",
      "tensor([[1.9999]], requires_grad=True), Parameter containing:\n",
      "tensor([0.0001], requires_grad=True)]\n"
     ]
    }
   ],
   "source": [
    "new_var = torch.FloatTensor([[4.0]])\n",
    "\n",
    "pred_y = model(new_var)\n",
    "\n",
    "print(\"\\n훈련 후 입력이 4일 때의 예측값 :\", pred_y)\n",
    "print()\n",
    "print(list(model.parameters()))"
   ]
  }
 ],
 "metadata": {
  "kernelspec": {
   "display_name": "Python 3",
   "language": "python",
   "name": "python3"
  },
  "language_info": {
   "codemirror_mode": {
    "name": "ipython",
    "version": 3
   },
   "file_extension": ".py",
   "mimetype": "text/x-python",
   "name": "python",
   "nbconvert_exporter": "python",
   "pygments_lexer": "ipython3",
   "version": "3.8.8"
  }
 },
 "nbformat": 4,
 "nbformat_minor": 5
}
