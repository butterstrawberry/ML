{
 "cells": [
  {
   "cell_type": "code",
   "execution_count": 1,
   "id": "0ba6f1c7",
   "metadata": {},
   "outputs": [],
   "source": [
    "import torch\n",
    "import numpy as np\n",
    "import matplotlib.pyplot as plt\n",
    "\n",
    "from torch import nn, optim\n",
    "from torch.utils.data import TensorDataset, DataLoader\n",
    "from sklearn.datasets import fetch_openml\n",
    "from sklearn.model_selection import train_test_split"
   ]
  },
  {
   "cell_type": "code",
   "execution_count": 2,
   "id": "9d45efb2",
   "metadata": {},
   "outputs": [],
   "source": [
    "mnist = fetch_openml('mnist_784', version=1, cache=True)\n",
    "\n",
    "mnist.target = mnist.target.astype(np.int8)"
   ]
  },
  {
   "cell_type": "code",
   "execution_count": 3,
   "id": "ac8ef322",
   "metadata": {},
   "outputs": [],
   "source": [
    "x = mnist.data / 255 # normalization\n",
    "y = mnist.target\n",
    "\n",
    "x = np.array(x)\n",
    "y = np.array(y)"
   ]
  },
  {
   "cell_type": "code",
   "execution_count": 4,
   "id": "4188087e",
   "metadata": {},
   "outputs": [],
   "source": [
    "# split by train data and test data\n",
    "x_train, x_test, y_train, y_test = train_test_split(x, y, test_size=1/7, random_state=0)"
   ]
  },
  {
   "cell_type": "code",
   "execution_count": 5,
   "id": "beedb268",
   "metadata": {},
   "outputs": [],
   "source": [
    "x_train = torch.Tensor(x_train)\n",
    "x_test = torch.Tensor(x_test)\n",
    "y_train = torch.LongTensor(y_train)\n",
    "y_test = torch.LongTensor(y_test)"
   ]
  },
  {
   "cell_type": "code",
   "execution_count": 6,
   "id": "ed90c18c",
   "metadata": {},
   "outputs": [],
   "source": [
    "ds_train = TensorDataset(x_train, y_train)\n",
    "ds_test = TensorDataset(x_test, y_test)"
   ]
  },
  {
   "cell_type": "code",
   "execution_count": 7,
   "id": "7feff50a",
   "metadata": {},
   "outputs": [],
   "source": [
    "loader_train = DataLoader(ds_train, batch_size=64, shuffle=True)\n",
    "loader_test = DataLoader(ds_test, batch_size=64, shuffle=True)"
   ]
  },
  {
   "cell_type": "code",
   "execution_count": 8,
   "id": "660ec130",
   "metadata": {},
   "outputs": [],
   "source": [
    "# multi layer perceptron\n",
    "model = nn.Sequential()\n",
    "model.add_module('fc1', nn.Linear(28*28*1, 100))\n",
    "model.add_module('relu1', nn.ReLU())\n",
    "model.add_module('fc2', nn.Linear(100, 100))\n",
    "model.add_module('relu2', nn.ReLU())\n",
    "model.add_module('fc3', nn.Linear(100, 10))"
   ]
  },
  {
   "cell_type": "code",
   "execution_count": 9,
   "id": "6e5279ad",
   "metadata": {},
   "outputs": [],
   "source": [
    "# select loss function\n",
    "criterion = nn.CrossEntropyLoss()\n",
    "\n",
    "# select optimizer for updating the weight\n",
    "optimizer = optim.Adam(model.parameters(), lr=0.001)"
   ]
  },
  {
   "cell_type": "code",
   "execution_count": 10,
   "id": "1429a5b4",
   "metadata": {},
   "outputs": [],
   "source": [
    "nb_epoch = 25"
   ]
  },
  {
   "cell_type": "code",
   "execution_count": 11,
   "id": "3bd15273",
   "metadata": {},
   "outputs": [],
   "source": [
    "def train(epoch):\n",
    "    model.train() # set the module in training mode\n",
    "    \n",
    "    # train by taking out a mini batch one by one from the dataloader\n",
    "    for data, targets in loader_train:\n",
    "        optimizer.zero_grad() # initialize the gradient with 0 \n",
    "        outputs = model(data) # input the data and compute output\n",
    "        cost = criterion(outputs, targets) # compute the error of between output and correct answer of train data\n",
    "        cost.backward() # backpropagation\n",
    "        optimizer.step() # modify the weight\n",
    "        \n",
    "    print('epoch {}/{} Complete\\n'.format(\n",
    "        epoch + 1, nb_epoch\n",
    "    ))"
   ]
  },
  {
   "cell_type": "code",
   "execution_count": 12,
   "id": "0e884251",
   "metadata": {},
   "outputs": [],
   "source": [
    "def test():\n",
    "    model.eval() # set the module in evaluation mode\n",
    "    correct = 0\n",
    "    \n",
    "    # inference by taking out a mini batch one by one from the dataloader\n",
    "    with torch.no_grad(): # unnecessery to gradient calculation in process of inference\n",
    "        for data, targets in loader_test: \n",
    "            outputs = model(data) # input the data and compute output\n",
    "            \n",
    "            # inference\n",
    "            _, predicted = torch.max(outputs.data, 1)\n",
    "            correct += predicted.eq(targets.data.view_as(predicted)).sum()\n",
    "            \n",
    "    data_num = len(loader_test.dataset)\n",
    "    print('\\nPredictive Accuracy : {}/{} ({:.0f}%)\\n'.format(\n",
    "        correct, data_num, 100 * correct / data_num\n",
    "        ))"
   ]
  },
  {
   "cell_type": "code",
   "execution_count": 13,
   "id": "8db25ed6",
   "metadata": {},
   "outputs": [
    {
     "name": "stdout",
     "output_type": "stream",
     "text": [
      "epoch 1/25 Complete\n",
      "\n",
      "epoch 2/25 Complete\n",
      "\n",
      "epoch 3/25 Complete\n",
      "\n",
      "epoch 4/25 Complete\n",
      "\n",
      "epoch 5/25 Complete\n",
      "\n",
      "epoch 6/25 Complete\n",
      "\n",
      "epoch 7/25 Complete\n",
      "\n",
      "epoch 8/25 Complete\n",
      "\n",
      "epoch 9/25 Complete\n",
      "\n",
      "epoch 10/25 Complete\n",
      "\n",
      "epoch 11/25 Complete\n",
      "\n",
      "epoch 12/25 Complete\n",
      "\n",
      "epoch 13/25 Complete\n",
      "\n",
      "epoch 14/25 Complete\n",
      "\n",
      "epoch 15/25 Complete\n",
      "\n",
      "epoch 16/25 Complete\n",
      "\n",
      "epoch 17/25 Complete\n",
      "\n",
      "epoch 18/25 Complete\n",
      "\n",
      "epoch 19/25 Complete\n",
      "\n",
      "epoch 20/25 Complete\n",
      "\n",
      "epoch 21/25 Complete\n",
      "\n",
      "epoch 22/25 Complete\n",
      "\n",
      "epoch 23/25 Complete\n",
      "\n",
      "epoch 24/25 Complete\n",
      "\n",
      "epoch 25/25 Complete\n",
      "\n",
      "\n",
      "Predictive Accuracy : 9731/10000 (97%)\n",
      "\n"
     ]
    }
   ],
   "source": [
    "for epoch in range(nb_epoch):\n",
    "    train(epoch)\n",
    "    \n",
    "test()"
   ]
  },
  {
   "cell_type": "code",
   "execution_count": 14,
   "id": "55ea4872",
   "metadata": {},
   "outputs": [
    {
     "name": "stdout",
     "output_type": "stream",
     "text": [
      "Predicted Result : 9\n",
      "The correct label is 9.\n"
     ]
    },
    {
     "data": {
      "image/png": "[encoded data removed]",
      "text/plain": [
       "<Figure size 432x288 with 1 Axes>"
      ]
     },
     "metadata": {
      "needs_background": "light"
     },
     "output_type": "display_data"
    }
   ],
   "source": [
    "index = 111\n",
    "\n",
    "model.eval()\n",
    "data = x_test[index]\n",
    "output = model(data)\n",
    "_, predicted = torch.max(output.data, 0)\n",
    "\n",
    "print('Predicted Result : {}'.format(predicted))\n",
    "\n",
    "x_test_show = (x_test[index]).numpy()\n",
    "plt.imshow(x_test_show.reshape(28, 28), cmap='gray')\n",
    "print('The correct label is {:.0f}.'.format(y_test[index]))\n",
    "plt.show()"
   ]
  }
 ],
 "metadata": {
  "kernelspec": {
   "display_name": "Python 3",
   "language": "python",
   "name": "python3"
  },
  "language_info": {
   "codemirror_mode": {
    "name": "ipython",
    "version": 3
   },
   "file_extension": ".py",
   "mimetype": "text/x-python",
   "name": "python",
   "nbconvert_exporter": "python",
   "pygments_lexer": "ipython3",
   "version": "3.8.8"
  }
 },
 "nbformat": 4,
 "nbformat_minor": 5
}
