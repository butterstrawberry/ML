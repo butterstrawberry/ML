{
 "cells": [
  {
   "cell_type": "markdown",
   "metadata": {},
   "source": [
    "# TensorFlow 2.0"
   ]
  },
  {
   "cell_type": "code",
   "execution_count": 1,
   "metadata": {},
   "outputs": [],
   "source": [
    "import os\n",
    "from glob import glob\n",
    "from datetime import datetime\n",
    "\n",
    "import numpy as np\n",
    "\n",
    "import tensorflow as tf\n",
    "from tensorflow.keras import layers\n",
    "\n",
    "from tensorflow.keras import datasets \n",
    "\n",
    "import matplotlib.pyplot as plt\n",
    "\n",
    "%matplotlib inline"
   ]
  },
  {
   "cell_type": "markdown",
   "metadata": {},
   "source": [
    "## Hyperparameter Tunning"
   ]
  },
  {
   "cell_type": "code",
   "execution_count": 2,
   "metadata": {},
   "outputs": [],
   "source": [
    "num_epochs = 50\n",
    "batch_size = 32\n",
    "\n",
    "learning_rate = 0.001\n",
    "\n",
    "dropout_rate = 0.5\n",
    "\n",
    "input_shape = (32, 32, 3)\n",
    "num_classes = 10"
   ]
  },
  {
   "cell_type": "markdown",
   "metadata": {},
   "source": [
    "## Build Model"
   ]
  },
  {
   "cell_type": "code",
   "execution_count": 3,
   "metadata": {},
   "outputs": [],
   "source": [
    "inputs = layers.Input(input_shape)\n",
    "\n",
    "net = layers.Conv2D(32, (3, 3), padding='SAME')(inputs)\n",
    "net = layers.Activation('relu')(net)\n",
    "net = layers.Conv2D(32, (3, 3), padding='SAME')(net)\n",
    "net = layers.Activation('relu')(net)\n",
    "net = layers.MaxPooling2D(pool_size=(2, 2))(net)\n",
    "net = layers.Dropout(dropout_rate)(net)\n",
    "\n",
    "net = layers.Conv2D(64, (3, 3), padding='SAME')(net)\n",
    "net = layers.Activation('relu')(net)\n",
    "net = layers.Conv2D(64, (3, 3), padding='SAME')(net)\n",
    "net = layers.Activation('relu')(net)\n",
    "net = layers.MaxPooling2D(pool_size=(2, 2))(net)\n",
    "net = layers.Dropout(dropout_rate)(net)\n",
    "\n",
    "net = layers.Flatten()(net)\n",
    "net = layers.Dense(512)(net)\n",
    "net = layers.Activation('relu')(net)\n",
    "net = layers.Dropout(dropout_rate)(net)\n",
    "net = layers.Dense(num_classes)(net)\n",
    "net = layers.Activation('softmax')(net)\n",
    "\n",
    "model = tf.keras.Model(inputs=inputs, outputs=net, name='Basic_CNN')"
   ]
  },
  {
   "cell_type": "code",
   "execution_count": 4,
   "metadata": {},
   "outputs": [],
   "source": [
    "# Model is the full model w/o custom layers\n",
    "model.compile(optimizer=tf.keras.optimizers.Adam(learning_rate),  # Optimization\n",
    "              loss='sparse_categorical_crossentropy',  # Loss Function \n",
    "              metrics=['accuracy'])  # Metrics / Accuracy"
   ]
  },
  {
   "cell_type": "markdown",
   "metadata": {},
   "source": [
    "# Data Preprocess"
   ]
  },
  {
   "cell_type": "code",
   "execution_count": 5,
   "metadata": {},
   "outputs": [],
   "source": [
    "train_paths = glob('../dataset/cifar/train/*.png')[:1000]\n",
    "test_paths = glob('../dataset/cifar/test/*.png')[:1000]"
   ]
  },
  {
   "cell_type": "code",
   "execution_count": 6,
   "metadata": {},
   "outputs": [],
   "source": [
    "def get_class_name(path):\n",
    "    return path.split('_')[-1].replace('.png', '')"
   ]
  },
  {
   "cell_type": "code",
   "execution_count": 7,
   "metadata": {},
   "outputs": [],
   "source": [
    "train_labels = [get_class_name(path) for path in train_paths]\n",
    "class_names = np.unique(train_labels)"
   ]
  },
  {
   "cell_type": "code",
   "execution_count": 8,
   "metadata": {},
   "outputs": [],
   "source": [
    "def get_label(path):\n",
    "    fname = tf.strings.split(path, '_')[-1]\n",
    "    lbl_name = tf.strings.regex_replace(fname, '.png', '')\n",
    "    onehot = tf.cast(lbl_name == class_names, tf.uint8)\n",
    "    return tf.argmax(onehot)  # 이번에는 onehot이 아닌 label 번호로"
   ]
  },
  {
   "cell_type": "code",
   "execution_count": 9,
   "metadata": {},
   "outputs": [],
   "source": [
    "def load_image_label(path):\n",
    "    gfile = tf.io.read_file(path)\n",
    "    image = tf.io.decode_image(gfile)\n",
    "    image = tf.cast(image, tf.float32) / 255.  # rescale\n",
    "    \n",
    "    label = get_label(path)\n",
    "    return image, label"
   ]
  },
  {
   "cell_type": "code",
   "execution_count": 10,
   "metadata": {},
   "outputs": [],
   "source": [
    "def image_preprocess(image, label):\n",
    "    image = tf.image.random_flip_up_down(image)\n",
    "    image = tf.image.random_flip_left_right(image)\n",
    "    return image, label"
   ]
  },
  {
   "cell_type": "code",
   "execution_count": 11,
   "metadata": {},
   "outputs": [],
   "source": [
    "AUTOTUNE = tf.data.experimental.AUTOTUNE"
   ]
  },
  {
   "cell_type": "code",
   "execution_count": 12,
   "metadata": {
    "scrolled": false
   },
   "outputs": [],
   "source": [
    "train_dataset = tf.data.Dataset.from_tensor_slices(train_paths)\n",
    "train_dataset = train_dataset.map(load_image_label, num_parallel_calls=AUTOTUNE)\n",
    "train_dataset = train_dataset.map(image_preprocess, num_parallel_calls=AUTOTUNE)\n",
    "train_dataset = train_dataset.batch(batch_size)\n",
    "train_dataset = train_dataset.shuffle(buffer_size=len(train_paths))\n",
    "train_dataset = train_dataset.repeat()"
   ]
  },
  {
   "cell_type": "code",
   "execution_count": 13,
   "metadata": {},
   "outputs": [],
   "source": [
    "test_dataset = tf.data.Dataset.from_tensor_slices(test_paths)\n",
    "test_dataset = test_dataset.map(load_image_label, num_parallel_calls=AUTOTUNE)\n",
    "test_dataset = test_dataset.batch(batch_size)\n",
    "test_dataset = test_dataset.repeat()"
   ]
  },
  {
   "cell_type": "markdown",
   "metadata": {},
   "source": [
    "## Training"
   ]
  },
  {
   "cell_type": "markdown",
   "metadata": {},
   "source": [
    "http://localhost:6006"
   ]
  },
  {
   "cell_type": "code",
   "execution_count": 14,
   "metadata": {
    "scrolled": false
   },
   "outputs": [
    {
     "name": "stdout",
     "output_type": "stream",
     "text": [
      "Epoch 1/50\n",
      "31/31 [==============================] - 5s 102ms/step - loss: 2.2979 - accuracy: 0.1167 - val_loss: 2.2708 - val_accuracy: 0.1159\n",
      "Epoch 2/50\n",
      "31/31 [==============================] - 3s 96ms/step - loss: 2.2679 - accuracy: 0.1395 - val_loss: 2.2000 - val_accuracy: 0.1683\n",
      "Epoch 3/50\n",
      "31/31 [==============================] - 3s 95ms/step - loss: 2.2055 - accuracy: 0.2025 - val_loss: 2.2048 - val_accuracy: 0.2278\n",
      "Epoch 4/50\n",
      "31/31 [==============================] - 3s 96ms/step - loss: 2.1499 - accuracy: 0.2097 - val_loss: 2.0736 - val_accuracy: 0.2369\n",
      "Epoch 5/50\n",
      "31/31 [==============================] - 3s 93ms/step - loss: 2.0648 - accuracy: 0.2383 - val_loss: 2.0735 - val_accuracy: 0.2530\n",
      "Epoch 6/50\n",
      "31/31 [==============================] - 3s 95ms/step - loss: 1.9736 - accuracy: 0.2641 - val_loss: 1.9538 - val_accuracy: 0.2712\n",
      "Epoch 7/50\n",
      "31/31 [==============================] - 3s 92ms/step - loss: 1.9015 - accuracy: 0.2850 - val_loss: 1.8795 - val_accuracy: 0.2752\n",
      "Epoch 8/50\n",
      "31/31 [==============================] - 3s 94ms/step - loss: 1.8830 - accuracy: 0.2769 - val_loss: 1.8887 - val_accuracy: 0.2883\n",
      "Epoch 9/50\n",
      "31/31 [==============================] - 3s 94ms/step - loss: 1.8914 - accuracy: 0.3110 - val_loss: 1.9086 - val_accuracy: 0.2823\n",
      "Epoch 10/50\n",
      "31/31 [==============================] - 3s 94ms/step - loss: 1.8182 - accuracy: 0.3213 - val_loss: 1.8240 - val_accuracy: 0.3367\n",
      "Epoch 11/50\n",
      "31/31 [==============================] - 3s 94ms/step - loss: 1.8102 - accuracy: 0.3264 - val_loss: 1.9543 - val_accuracy: 0.2752\n",
      "Epoch 12/50\n",
      "31/31 [==============================] - 3s 94ms/step - loss: 1.8115 - accuracy: 0.3368 - val_loss: 1.8228 - val_accuracy: 0.3044\n",
      "Epoch 13/50\n",
      "31/31 [==============================] - 3s 94ms/step - loss: 1.7697 - accuracy: 0.3440 - val_loss: 1.7991 - val_accuracy: 0.3367\n",
      "Epoch 14/50\n",
      "31/31 [==============================] - 3s 95ms/step - loss: 1.7124 - accuracy: 0.3397 - val_loss: 1.7663 - val_accuracy: 0.3518\n",
      "Epoch 15/50\n",
      "31/31 [==============================] - 3s 93ms/step - loss: 1.6618 - accuracy: 0.3930 - val_loss: 1.8103 - val_accuracy: 0.3377\n",
      "Epoch 16/50\n",
      "31/31 [==============================] - 3s 94ms/step - loss: 1.6758 - accuracy: 0.3740 - val_loss: 1.7892 - val_accuracy: 0.3468\n",
      "Epoch 17/50\n",
      "31/31 [==============================] - 3s 95ms/step - loss: 1.6331 - accuracy: 0.4103 - val_loss: 1.7232 - val_accuracy: 0.3448\n",
      "Epoch 18/50\n",
      "31/31 [==============================] - 3s 95ms/step - loss: 1.6626 - accuracy: 0.3791 - val_loss: 1.8794 - val_accuracy: 0.3266\n",
      "Epoch 19/50\n",
      "31/31 [==============================] - 3s 93ms/step - loss: 1.6121 - accuracy: 0.4153 - val_loss: 1.8184 - val_accuracy: 0.3478\n",
      "Epoch 20/50\n",
      "31/31 [==============================] - 3s 96ms/step - loss: 1.6829 - accuracy: 0.4042 - val_loss: 1.7874 - val_accuracy: 0.3579\n",
      "Epoch 21/50\n",
      "31/31 [==============================] - 3s 94ms/step - loss: 1.5851 - accuracy: 0.4205 - val_loss: 1.7019 - val_accuracy: 0.3972\n",
      "Epoch 22/50\n",
      "31/31 [==============================] - 3s 94ms/step - loss: 1.5366 - accuracy: 0.4473 - val_loss: 1.7388 - val_accuracy: 0.3770\n",
      "Epoch 23/50\n",
      "31/31 [==============================] - 3s 93ms/step - loss: 1.5868 - accuracy: 0.4050 - val_loss: 1.6909 - val_accuracy: 0.3780\n",
      "Epoch 24/50\n",
      "31/31 [==============================] - 3s 95ms/step - loss: 1.5019 - accuracy: 0.4638 - val_loss: 1.6557 - val_accuracy: 0.3881\n",
      "Epoch 25/50\n",
      "31/31 [==============================] - 3s 94ms/step - loss: 1.5081 - accuracy: 0.4269 - val_loss: 1.6541 - val_accuracy: 0.3931\n",
      "Epoch 26/50\n",
      "31/31 [==============================] - 3s 96ms/step - loss: 1.4908 - accuracy: 0.4556 - val_loss: 1.6586 - val_accuracy: 0.3921\n",
      "Epoch 27/50\n",
      "31/31 [==============================] - 3s 95ms/step - loss: 1.4810 - accuracy: 0.4700 - val_loss: 1.6954 - val_accuracy: 0.3952\n",
      "Epoch 28/50\n",
      "31/31 [==============================] - 3s 94ms/step - loss: 1.4843 - accuracy: 0.4607 - val_loss: 1.6731 - val_accuracy: 0.4062\n",
      "Epoch 29/50\n",
      "31/31 [==============================] - 3s 95ms/step - loss: 1.4378 - accuracy: 0.4752 - val_loss: 1.6314 - val_accuracy: 0.4073\n",
      "Epoch 30/50\n",
      "31/31 [==============================] - 3s 94ms/step - loss: 1.3637 - accuracy: 0.4948 - val_loss: 1.7094 - val_accuracy: 0.4173\n",
      "Epoch 31/50\n",
      "31/31 [==============================] - 3s 94ms/step - loss: 1.3883 - accuracy: 0.4897 - val_loss: 1.6654 - val_accuracy: 0.3841\n",
      "Epoch 32/50\n",
      "31/31 [==============================] - 3s 94ms/step - loss: 1.3652 - accuracy: 0.4990 - val_loss: 1.7005 - val_accuracy: 0.4153\n",
      "Epoch 33/50\n",
      "31/31 [==============================] - 3s 94ms/step - loss: 1.3958 - accuracy: 0.4876 - val_loss: 1.7024 - val_accuracy: 0.3911\n",
      "Epoch 34/50\n",
      "31/31 [==============================] - 3s 95ms/step - loss: 1.2956 - accuracy: 0.5269 - val_loss: 1.6942 - val_accuracy: 0.4163\n",
      "Epoch 35/50\n",
      "31/31 [==============================] - 3s 95ms/step - loss: 1.3309 - accuracy: 0.5041 - val_loss: 1.6352 - val_accuracy: 0.4143\n",
      "Epoch 36/50\n",
      "31/31 [==============================] - 3s 95ms/step - loss: 1.2383 - accuracy: 0.5610 - val_loss: 1.6700 - val_accuracy: 0.4274\n",
      "Epoch 37/50\n",
      "31/31 [==============================] - 3s 96ms/step - loss: 1.2605 - accuracy: 0.5383 - val_loss: 1.6970 - val_accuracy: 0.4234\n",
      "Epoch 38/50\n",
      "31/31 [==============================] - 3s 93ms/step - loss: 1.2542 - accuracy: 0.5519 - val_loss: 1.6089 - val_accuracy: 0.4284\n",
      "Epoch 39/50\n",
      "31/31 [==============================] - 3s 95ms/step - loss: 1.2318 - accuracy: 0.5548 - val_loss: 1.6332 - val_accuracy: 0.4395\n",
      "Epoch 40/50\n",
      "31/31 [==============================] - 3s 96ms/step - loss: 1.1887 - accuracy: 0.5655 - val_loss: 1.6623 - val_accuracy: 0.4254\n",
      "Epoch 41/50\n",
      "31/31 [==============================] - 3s 95ms/step - loss: 1.1735 - accuracy: 0.5847 - val_loss: 1.6380 - val_accuracy: 0.4415\n",
      "Epoch 42/50\n",
      "31/31 [==============================] - 3s 93ms/step - loss: 1.1684 - accuracy: 0.5583 - val_loss: 1.7178 - val_accuracy: 0.4335\n",
      "Epoch 43/50\n",
      "31/31 [==============================] - 3s 96ms/step - loss: 1.1675 - accuracy: 0.5897 - val_loss: 1.6696 - val_accuracy: 0.4143\n",
      "Epoch 44/50\n",
      "31/31 [==============================] - 3s 94ms/step - loss: 1.1457 - accuracy: 0.5805 - val_loss: 1.7242 - val_accuracy: 0.4284\n",
      "Epoch 45/50\n",
      "31/31 [==============================] - 3s 95ms/step - loss: 1.1438 - accuracy: 0.5907 - val_loss: 1.5885 - val_accuracy: 0.4385\n",
      "Epoch 46/50\n",
      "31/31 [==============================] - 3s 94ms/step - loss: 1.0693 - accuracy: 0.6239 - val_loss: 1.6782 - val_accuracy: 0.4183\n",
      "Epoch 47/50\n",
      "31/31 [==============================] - 3s 96ms/step - loss: 1.1058 - accuracy: 0.5927 - val_loss: 1.6161 - val_accuracy: 0.4486\n",
      "Epoch 48/50\n",
      "31/31 [==============================] - 3s 95ms/step - loss: 1.0990 - accuracy: 0.5930 - val_loss: 1.6252 - val_accuracy: 0.4627\n",
      "Epoch 49/50\n",
      "31/31 [==============================] - 3s 95ms/step - loss: 1.0128 - accuracy: 0.6260 - val_loss: 1.6568 - val_accuracy: 0.4405\n",
      "Epoch 50/50\n",
      "31/31 [==============================] - 3s 93ms/step - loss: 1.1307 - accuracy: 0.5975 - val_loss: 1.6205 - val_accuracy: 0.4728\n"
     ]
    }
   ],
   "source": [
    "steps_per_epoch = len(train_paths) // batch_size\n",
    "validation_steps = len(test_paths) // batch_size\n",
    "\n",
    "history = model.fit( # history에 담아주고 시작해야함\n",
    "    train_dataset,\n",
    "    steps_per_epoch=steps_per_epoch,\n",
    "    validation_data=test_dataset,\n",
    "    validation_steps=validation_steps,\n",
    "    epochs=num_epochs\n",
    ")"
   ]
  },
  {
   "cell_type": "markdown",
   "metadata": {},
   "source": [
    "# History 들여다 보기 "
   ]
  },
  {
   "cell_type": "code",
   "execution_count": 20,
   "metadata": {},
   "outputs": [
    {
     "data": {
      "text/plain": [
       "dict_keys(['loss', 'accuracy', 'val_loss', 'val_accuracy'])"
      ]
     },
     "execution_count": 20,
     "metadata": {},
     "output_type": "execute_result"
    }
   ],
   "source": [
    "history.history.keys()"
   ]
  },
  {
   "cell_type": "code",
   "execution_count": 23,
   "metadata": {},
   "outputs": [
    {
     "data": {
      "text/plain": [
       "{'verbose': 1, 'epochs': 50, 'steps': 31}"
      ]
     },
     "execution_count": 23,
     "metadata": {},
     "output_type": "execute_result"
    }
   ],
   "source": [
    "history.params"
   ]
  },
  {
   "cell_type": "code",
   "execution_count": 22,
   "metadata": {},
   "outputs": [],
   "source": [
    "new_model = history.model"
   ]
  },
  {
   "cell_type": "code",
   "execution_count": 25,
   "metadata": {},
   "outputs": [
    {
     "data": {
      "image/png": "[encoded data removed]",
      "text/plain": [
       "<Figure size 432x288 with 1 Axes>"
      ]
     },
     "metadata": {
      "needs_background": "light"
     },
     "output_type": "display_data"
    }
   ],
   "source": [
    "plt.plot(history.history['accuracy'])\n",
    "plt.plot(history.history['val_accuracy'])\n",
    "plt.title(\"Model Accuracy\")\n",
    "plt.ylabel('accuracy')\n",
    "plt.xlabel('epoch')\n",
    "plt.legend(['train', 'validation'])\n",
    "plt.show()"
   ]
  },
  {
   "cell_type": "code",
   "execution_count": 26,
   "metadata": {},
   "outputs": [
    {
     "data": {
      "image/png": "[encoded data removed]",
      "text/plain": [
       "<Figure size 432x288 with 1 Axes>"
      ]
     },
     "metadata": {
      "needs_background": "light"
     },
     "output_type": "display_data"
    }
   ],
   "source": [
    "plt.plot(history.history['loss'])\n",
    "plt.plot(history.history['val_loss'])\n",
    "plt.title('Model Loss')\n",
    "plt.ylabel('loss')\n",
    "plt.xlabel('epoch')\n",
    "plt.legend(['train', 'validation'])\n",
    "plt.show()"
   ]
  }
 ],
 "metadata": {
  "kernelspec": {
   "display_name": "Python 3",
   "language": "python",
   "name": "python3"
  },
  "language_info": {
   "codemirror_mode": {
    "name": "ipython",
    "version": 3
   },
   "file_extension": ".py",
   "mimetype": "text/x-python",
   "name": "python",
   "nbconvert_exporter": "python",
   "pygments_lexer": "ipython3",
   "version": "3.8.8"
  }
 },
 "nbformat": 4,
 "nbformat_minor": 2
}
