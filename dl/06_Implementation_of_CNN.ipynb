{
 "cells": [
  {
   "cell_type": "markdown",
   "metadata": {},
   "source": [
    "## 기본 합성곱 신경망 구현"
   ]
  },
  {
   "cell_type": "code",
   "execution_count": 1,
   "metadata": {},
   "outputs": [],
   "source": [
    "import tensorflow as tf\n",
    "import numpy as np"
   ]
  },
  {
   "cell_type": "markdown",
   "metadata": {},
   "source": [
    "## 하이퍼 파라미터"
   ]
  },
  {
   "cell_type": "code",
   "execution_count": 2,
   "metadata": {},
   "outputs": [],
   "source": [
    "EPOCHS = 10"
   ]
  },
  {
   "cell_type": "markdown",
   "metadata": {},
   "source": [
    "## 모델 정의"
   ]
  },
  {
   "cell_type": "code",
   "execution_count": 3,
   "metadata": {},
   "outputs": [],
   "source": [
    "class ConvNet(tf.keras.Model):\n",
    "    def __init__(self):\n",
    "        super(ConvNet, self).__init__()\n",
    "        conv2d = tf.keras.layers.Conv2D\n",
    "        maxpool = tf.keras.layers.MaxPool2D\n",
    "        self.sequence = list()\n",
    "        # Conv2D(출력채널, 커널, 크기 유지, activation)\n",
    "        self.sequence.append(conv2d(16, (3, 3), padding='same', activation='relu')) # 28x28x16\n",
    "        self.sequence.append(conv2d(16, (3, 3), padding='same', activation='relu')) # 28x28x16\n",
    "        self.sequence.append(maxpool((2, 2))) # 14x14x16\n",
    "        self.sequence.append(conv2d(32, (3, 3), padding='same', activation='relu')) # 14x14x32\n",
    "        self.sequence.append(conv2d(32, (3, 3), padding='same', activation='relu')) # 14x14x32\n",
    "        self.sequence.append(maxpool((2, 2))) # 7x7x32\n",
    "        self.sequence.append(conv2d(64, (3, 3), padding='same', activation='relu')) # 7x7x64\n",
    "        self.sequence.append(conv2d(64, (3, 3), padding='same', activation='relu')) # 7x7x64\n",
    "        self.sequence.append(tf.keras.layers.Flatten()) \n",
    "        self.sequence.append(tf.keras.layers.Dense(2048, activation='relu'))\n",
    "        self.sequence.append(tf.keras.layers.Dense(10, activation='softmax'))\n",
    "        \n",
    "    def call(self, x, training=False, mask=None):\n",
    "        for layer in self.sequence:\n",
    "            x = layer(x)\n",
    "        return x"
   ]
  },
  {
   "cell_type": "markdown",
   "metadata": {},
   "source": [
    "## 학습, 테스트 루프 정의"
   ]
  },
  {
   "cell_type": "code",
   "execution_count": 4,
   "metadata": {},
   "outputs": [],
   "source": [
    "# Implement training loop\n",
    "@tf.function\n",
    "def train_step(model, images, labels, loss_object, optimizer, train_loss, train_accuracy):\n",
    "    with tf.GradientTape() as tape:\n",
    "        predictions = model(images)\n",
    "        loss = loss_object(labels, predictions)\n",
    "    gradients = tape.gradient(loss, model.trainable_variables)\n",
    "\n",
    "    optimizer.apply_gradients(zip(gradients, model.trainable_variables))\n",
    "    train_loss(loss)\n",
    "    train_accuracy(labels, predictions)\n",
    "\n",
    "# Implement algorithm test\n",
    "@tf.function\n",
    "def test_step(model, images, labels, loss_object, test_loss, test_accuracy):\n",
    "    predictions = model(images)\n",
    "\n",
    "    t_loss = loss_object(labels, predictions)\n",
    "    test_loss(t_loss)\n",
    "    test_accuracy(labels, predictions)"
   ]
  },
  {
   "cell_type": "markdown",
   "metadata": {},
   "source": [
    "## 데이터셋 준비\n"
   ]
  },
  {
   "cell_type": "code",
   "execution_count": 5,
   "metadata": {},
   "outputs": [],
   "source": [
    "mnist = tf.keras.datasets.mnist\n",
    "\n",
    "(x_train, y_train), (x_test, y_test) = mnist.load_data()\n",
    "x_train, x_test = x_train / 255.0, x_test / 255.0 # float64\n",
    "\n",
    "# x_train : (NUM_SAMPLE, 28, 28) -> (NUM_SAMPLE, 28, 28, 1) conv layer에서 작동을 위해\n",
    "x_train = x_train[..., tf.newaxis].astype(np.float32) # float32로 바꿔야 tf에서 에러X\n",
    "x_test = x_test[..., tf.newaxis].astype(np.float32)\n",
    "\n",
    "train_ds = tf.data.Dataset.from_tensor_slices((x_train, y_train)).shuffle(10000).batch(32)\n",
    "test_ds = tf.data.Dataset.from_tensor_slices((x_test, y_test)).batch(32)"
   ]
  },
  {
   "cell_type": "markdown",
   "metadata": {},
   "source": [
    "## 학습 환경 정의\n",
    "### 모델 생성, 손실함수, 최적화 알고리즘, 평가지표 정의"
   ]
  },
  {
   "cell_type": "code",
   "execution_count": 6,
   "metadata": {},
   "outputs": [],
   "source": [
    "# Create model\n",
    "model = ConvNet()\n",
    "\n",
    "# Define loss and optimizer\n",
    "loss_object = tf.keras.losses.SparseCategoricalCrossentropy()\n",
    "optimizer = tf.keras.optimizers.Adam()\n",
    "\n",
    "# Define performance metrics\n",
    "train_loss = tf.keras.metrics.Mean(name='train_loss')\n",
    "train_accuracy = tf.keras.metrics.SparseCategoricalAccuracy(name='train_accuracy')\n",
    "\n",
    "test_loss = tf.keras.metrics.Mean(name='test_loss')\n",
    "test_accuracy = tf.keras.metrics.SparseCategoricalAccuracy(name='test_accuracy')"
   ]
  },
  {
   "cell_type": "markdown",
   "metadata": {},
   "source": [
    "## 학습 루프 동작"
   ]
  },
  {
   "cell_type": "code",
   "execution_count": 7,
   "metadata": {},
   "outputs": [
    {
     "name": "stdout",
     "output_type": "stream",
     "text": [
      "Epoch 1, Loss: 0.11396678537130356, Accuracy: 96.34000396728516, Test Loss: 0.05605003610253334, Test Accuracy: 98.18000030517578\n",
      "Epoch 2, Loss: 0.04373960942029953, Accuracy: 98.66166687011719, Test Loss: 0.028335824608802795, Test Accuracy: 99.11000061035156\n",
      "Epoch 3, Loss: 0.03361247479915619, Accuracy: 98.98333740234375, Test Loss: 0.03890087455511093, Test Accuracy: 98.97000122070312\n",
      "Epoch 4, Loss: 0.026593226939439774, Accuracy: 99.17166900634766, Test Loss: 0.04007416218519211, Test Accuracy: 98.87999725341797\n",
      "Epoch 5, Loss: 0.0227156151086092, Accuracy: 99.28666687011719, Test Loss: 0.03304038941860199, Test Accuracy: 99.15999603271484\n",
      "Epoch 6, Loss: 0.021726438775658607, Accuracy: 99.35333251953125, Test Loss: 0.025926919654011726, Test Accuracy: 99.23999786376953\n",
      "Epoch 7, Loss: 0.0172214787453413, Accuracy: 99.44833374023438, Test Loss: 0.032797448337078094, Test Accuracy: 99.16999816894531\n",
      "Epoch 8, Loss: 0.016514211893081665, Accuracy: 99.48500061035156, Test Loss: 0.03909517824649811, Test Accuracy: 98.98999786376953\n",
      "Epoch 9, Loss: 0.015883669257164, Accuracy: 99.54666137695312, Test Loss: 0.035687338560819626, Test Accuracy: 99.08999633789062\n",
      "Epoch 10, Loss: 0.014664721675217152, Accuracy: 99.55833435058594, Test Loss: 0.04466504603624344, Test Accuracy: 98.94999694824219\n"
     ]
    }
   ],
   "source": [
    "for epoch in range(EPOCHS):\n",
    "    for images, labels in train_ds:\n",
    "        train_step(model, images, labels, loss_object, optimizer, train_loss, train_accuracy)\n",
    "\n",
    "    for test_images, test_labels in test_ds:\n",
    "        test_step(model, test_images, test_labels, loss_object, test_loss, test_accuracy)\n",
    "\n",
    "    template = 'Epoch {}, Loss: {}, Accuracy: {}, Test Loss: {}, Test Accuracy: {}'\n",
    "    print(template.format(epoch + 1,\n",
    "                          train_loss.result(),\n",
    "                          train_accuracy.result() * 100,\n",
    "                          test_loss.result(),\n",
    "                          test_accuracy.result() * 100))\n",
    "    train_loss.reset_states()\n",
    "    train_accuracy.reset_states()\n",
    "    test_loss.reset_states()\n",
    "    test_accuracy.reset_states()"
   ]
  }
 ],
 "metadata": {
  "kernelspec": {
   "display_name": "Python 3",
   "language": "python",
   "name": "python3"
  },
  "language_info": {
   "codemirror_mode": {
    "name": "ipython",
    "version": 3
   },
   "file_extension": ".py",
   "mimetype": "text/x-python",
   "name": "python",
   "nbconvert_exporter": "python",
   "pygments_lexer": "ipython3",
   "version": "3.8.8"
  }
 },
 "nbformat": 4,
 "nbformat_minor": 2
}
