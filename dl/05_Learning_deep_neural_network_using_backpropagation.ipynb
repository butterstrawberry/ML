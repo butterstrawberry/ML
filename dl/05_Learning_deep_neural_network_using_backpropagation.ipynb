{
 "cells": [
  {
   "cell_type": "markdown",
   "metadata": {},
   "source": [
    "## 수치 미분을 이용한 심층 신경망 학습"
   ]
  },
  {
   "cell_type": "code",
   "execution_count": 1,
   "metadata": {},
   "outputs": [],
   "source": [
    "import time\n",
    "import numpy as np"
   ]
  },
  {
   "cell_type": "markdown",
   "metadata": {},
   "source": [
    "## 유틸리티 함수"
   ]
  },
  {
   "cell_type": "code",
   "execution_count": 2,
   "metadata": {},
   "outputs": [],
   "source": [
    "def _t(x):\n",
    "    return np.transpose(x)\n",
    "\n",
    "def _m(A, B):\n",
    "    return np.matmul(A, B)"
   ]
  },
  {
   "cell_type": "markdown",
   "metadata": {},
   "source": [
    "## Sigmoid 구현"
   ]
  },
  {
   "cell_type": "code",
   "execution_count": 3,
   "metadata": {},
   "outputs": [],
   "source": [
    "class Sigmoid:\n",
    "    def __init__(self):\n",
    "        self.last_o = 1 # 처음에 곱할 때 무시될 수 있게\n",
    "\n",
    "    def __call__(self, x):\n",
    "        self.last_o = 1 / (1.0 + np.exp(-x))\n",
    "        return self.last_o\n",
    "\n",
    "    def grad(self): # sigmoid(x)(1-sigmoid(x))\n",
    "        return self.last_o * (1 - self.last_o)"
   ]
  },
  {
   "cell_type": "markdown",
   "metadata": {},
   "source": [
    "## Mean Squared Error 구현"
   ]
  },
  {
   "cell_type": "code",
   "execution_count": 4,
   "metadata": {},
   "outputs": [],
   "source": [
    "class MeanSquaredError:\n",
    "    def __init__(self):\n",
    "        # gradient\n",
    "        self.dh = 1 # gradient를 미리 저장하는 공간, 연쇄법칙을 할 때 계속 가져와야해서\n",
    "        self.last_diff = 1\n",
    "        \n",
    "    def __call__(self, h, y): # 1/2 * mean((h - y)^2)\n",
    "        self.last_diff = h - y\n",
    "        return 1 / 2 * np.mean(np.square(h - y))\n",
    "\n",
    "    def grad(self): # h - y\n",
    "        return self.last_diff"
   ]
  },
  {
   "cell_type": "markdown",
   "metadata": {},
   "source": [
    "## 뉴런 구현"
   ]
  },
  {
   "cell_type": "code",
   "execution_count": 5,
   "metadata": {},
   "outputs": [],
   "source": [
    "class Neuron:\n",
    "    def __init__(self, W, b, a_obj):\n",
    "        # Model parameters\n",
    "        self.W = W\n",
    "        self.b = b\n",
    "        self.a = a_obj()\n",
    "        \n",
    "        # gradient\n",
    "        self.dW = np.zeros_like(self.W)\n",
    "        self.db = np.zeros_like(self.b)\n",
    "        self.dh = np.zeros_like(_t(self.W))\n",
    "        \n",
    "        self.last_x = np.zeros((self.W.shape[0])) # 이전 입력을 가지고 있어야 미분 가능하기 때문에 미리 저장\n",
    "        self.last_h = np.zeros((self.W.shape[1]))\n",
    "        \n",
    "    def __call__(self, x):\n",
    "        self.last_x = x\n",
    "        self.last_h = _m(_t(self.W), x) + self.b\n",
    "        return self.a(self.last_h)\n",
    "\n",
    "    def grad(self): # dy/dh = W\n",
    "        return self.W * self.a.grad()\n",
    "\n",
    "    def grad_W(self, dh): # dh는 누적되서 곱해져서 온 마지막 gradient\n",
    "        grad = np.ones_like(self.W)\n",
    "        grad_a = self.a.grad()\n",
    "        for j in range(grad.shape[1]): # dy/dw = x\n",
    "            grad[:, j] = dh[j] * grad_a[j] * self.last_x\n",
    "        return grad\n",
    "        \n",
    "    def grad_b(self, dh): # dy/dh = 1\n",
    "        return dh * self.a.grad() * 1"
   ]
  },
  {
   "cell_type": "markdown",
   "metadata": {},
   "source": [
    "## 심층신경망 구현"
   ]
  },
  {
   "cell_type": "code",
   "execution_count": 6,
   "metadata": {},
   "outputs": [],
   "source": [
    "class DNN:\n",
    "    def __init__(self, hidden_depth, num_neuron, input, output, activation=Sigmoid):\n",
    "        def init_var(i, o):\n",
    "            return np.random.normal(0.0, 0.01, (i, o)), np.zeros((o,))\n",
    "\n",
    "        self.sequence = list()\n",
    "        # First hidden layer\n",
    "        W, b = init_var(input, num_neuron)\n",
    "        self.sequence.append(Neuron(W, b, activation))\n",
    "\n",
    "        # Hidden Layers\n",
    "        for index in range(hidden_depth):\n",
    "            W, b = init_var(num_neuron, num_neuron)\n",
    "            self.sequence.append(Neuron(W, b, activation))\n",
    "\n",
    "        # Output Layer\n",
    "        W, b = init_var(num_neuron, output)\n",
    "        self.sequence.append(Neuron(W, b, activation))\n",
    "\n",
    "    def __call__(self, x):\n",
    "        for layer in self.sequence:\n",
    "            x = layer(x)\n",
    "        return x\n",
    "\n",
    "    def calc_gradient(self, loss_obj):\n",
    "        loss_obj.dh = loss_obj.grad()\n",
    "        self.sequence.append(loss_obj)\n",
    "        \n",
    "        # back-prop loop\n",
    "        for i in range(len(self.sequence) - 1, 0, -1):\n",
    "            l1 = self.sequence[i]\n",
    "            l0 = self.sequence[i - 1]\n",
    "            \n",
    "            l0.dh = _m(l0.grad(), l1.dh)\n",
    "            l0.dW = l0.grad_W(l1.dh)\n",
    "            l0.db = l0.grad_b(l1.dh)\n",
    "        \n",
    "        self.sequence.remove(loss_obj)"
   ]
  },
  {
   "cell_type": "markdown",
   "metadata": {},
   "source": [
    "## 경사하강 학습법"
   ]
  },
  {
   "cell_type": "code",
   "execution_count": 7,
   "metadata": {},
   "outputs": [],
   "source": [
    "def gradient_descent(network, x, y, loss_obj, alpha=0.01):\n",
    "    loss = loss_obj(network(x), y)  # Forward inference\n",
    "    network.calc_gradient(loss_obj)  # Back-propagation\n",
    "    for layer in network.sequence:\n",
    "        layer.W += -alpha * layer.dW\n",
    "        layer.b += -alpha * layer.db\n",
    "    return loss"
   ]
  },
  {
   "cell_type": "markdown",
   "metadata": {},
   "source": [
    "## 동작 테스트"
   ]
  },
  {
   "cell_type": "code",
   "execution_count": 8,
   "metadata": {},
   "outputs": [
    {
     "name": "stdout",
     "output_type": "stream",
     "text": [
      "Epoch 0: Test loss 0.9295254693561092\n",
      "Epoch 1: Test loss 0.9190378329990608\n",
      "Epoch 2: Test loss 0.9086795058114667\n",
      "Epoch 3: Test loss 0.8984659112311223\n",
      "Epoch 4: Test loss 0.8884112007387914\n",
      "Epoch 5: Test loss 0.8785281734706025\n",
      "Epoch 6: Test loss 0.8688282224676777\n",
      "Epoch 7: Test loss 0.859321306802357\n",
      "Epoch 8: Test loss 0.8500159480639619\n",
      "Epoch 9: Test loss 0.8409192490743604\n",
      "Epoch 10: Test loss 0.8320369322488016\n",
      "Epoch 11: Test loss 0.8233733947227517\n",
      "Epoch 12: Test loss 0.8149317772226429\n",
      "Epoch 13: Test loss 0.8067140436515001\n",
      "Epoch 14: Test loss 0.7987210684678987\n",
      "Epoch 15: Test loss 0.7909527291344024\n",
      "Epoch 16: Test loss 0.7834080011746971\n",
      "Epoch 17: Test loss 0.7760850536834601\n",
      "Epoch 18: Test loss 0.7689813434585052\n",
      "Epoch 19: Test loss 0.7620937062530656\n",
      "Epoch 20: Test loss 0.7554184439631689\n",
      "Epoch 21: Test loss 0.748951406860382\n",
      "Epoch 22: Test loss 0.7426880702467478\n",
      "Epoch 23: Test loss 0.736623605142415\n",
      "Epoch 24: Test loss 0.7307529428156532\n",
      "Epoch 25: Test loss 0.7250708331299955\n",
      "Epoch 26: Test loss 0.7195718968158632\n",
      "Epoch 27: Test loss 0.7142506718769229\n",
      "Epoch 28: Test loss 0.7091016544178539\n",
      "Epoch 29: Test loss 0.7041193342336911\n",
      "Epoch 30: Test loss 0.6992982255350029\n",
      "Epoch 31: Test loss 0.6946328932012569\n",
      "Epoch 32: Test loss 0.6901179749599653\n",
      "Epoch 33: Test loss 0.685748199884397\n",
      "Epoch 34: Test loss 0.6815184035902299\n",
      "Epoch 35: Test loss 0.6774235404936209\n",
      "Epoch 36: Test loss 0.6734586934715042\n",
      "Epoch 37: Test loss 0.6696190812409365\n",
      "Epoch 38: Test loss 0.6659000637491238\n",
      "Epoch 39: Test loss 0.6622971458402717\n",
      "Epoch 40: Test loss 0.6588059794402855\n",
      "Epoch 41: Test loss 0.6554223644760813\n",
      "Epoch 42: Test loss 0.6521422487232209\n",
      "Epoch 43: Test loss 0.6489617267539805\n",
      "Epoch 44: Test loss 0.6458770381379012\n",
      "Epoch 45: Test loss 0.6428845650284718\n",
      "Epoch 46: Test loss 0.6399808292527975\n",
      "Epoch 47: Test loss 0.6371624890059332\n",
      "Epoch 48: Test loss 0.6344263352378942\n",
      "Epoch 49: Test loss 0.6317692878091524\n",
      "Epoch 50: Test loss 0.6291883914795624\n",
      "Epoch 51: Test loss 0.6266808117860415\n",
      "Epoch 52: Test loss 0.6242438308558536\n",
      "Epoch 53: Test loss 0.6218748431949002\n",
      "Epoch 54: Test loss 0.6195713514839185\n",
      "Epoch 55: Test loss 0.6173309624098101\n",
      "Epoch 56: Test loss 0.6151513825544139\n",
      "Epoch 57: Test loss 0.6130304143587747\n",
      "Epoch 58: Test loss 0.6109659521773023\n",
      "Epoch 59: Test loss 0.6089559784330713\n",
      "Epoch 60: Test loss 0.6069985598828238\n",
      "Epoch 61: Test loss 0.6050918439979642\n",
      "Epoch 62: Test loss 0.6032340554658867\n",
      "Epoch 63: Test loss 0.6014234928143638\n",
      "Epoch 64: Test loss 0.5996585251603508\n",
      "Epoch 65: Test loss 0.597937589083434\n",
      "Epoch 66: Test loss 0.5962591856232089\n",
      "Epoch 67: Test loss 0.594621877399123\n",
      "Epoch 68: Test loss 0.5930242858506822\n",
      "Epoch 69: Test loss 0.5914650885954461\n",
      "Epoch 70: Test loss 0.589943016901837\n",
      "Epoch 71: Test loss 0.5884568532735055\n",
      "Epoch 72: Test loss 0.5870054291417663\n",
      "Epoch 73: Test loss 0.5855876226624783\n",
      "Epoch 74: Test loss 0.584202356613633\n",
      "Epoch 75: Test loss 0.5828485963898706\n",
      "Epoch 76: Test loss 0.581525348090128\n",
      "Epoch 77: Test loss 0.5802316566946296\n",
      "Epoch 78: Test loss 0.5789666043274925\n",
      "Epoch 79: Test loss 0.5777293086012546\n",
      "Epoch 80: Test loss 0.5765189210397365\n",
      "Epoch 81: Test loss 0.5753346255757187\n",
      "Epoch 82: Test loss 0.574175637120033\n",
      "Epoch 83: Test loss 0.5730412001987587\n",
      "Epoch 84: Test loss 0.5719305876553425\n",
      "Epoch 85: Test loss 0.5708430994145626\n",
      "Epoch 86: Test loss 0.5697780613053856\n",
      "Epoch 87: Test loss 0.5687348239398797\n",
      "Epoch 88: Test loss 0.5677127616454622\n",
      "Epoch 89: Test loss 0.5667112714478805\n",
      "Epoch 90: Test loss 0.5657297721024379\n",
      "Epoch 91: Test loss 0.5647677031710899\n",
      "Epoch 92: Test loss 0.5638245241431414\n",
      "Epoch 93: Test loss 0.5628997135973872\n",
      "Epoch 94: Test loss 0.561992768403634\n",
      "Epoch 95: Test loss 0.5611032029616495\n",
      "Epoch 96: Test loss 0.560230548475672\n",
      "Epoch 97: Test loss 0.5593743522627095\n",
      "Epoch 98: Test loss 0.558534177092943\n",
      "Epoch 99: Test loss 0.5577096005606375\n",
      "0.09998941421508789 seconds elapsed.\n"
     ]
    }
   ],
   "source": [
    "x = np.random.normal(0.0, 1.0, (10,))\n",
    "y = np.random.normal(0.0, 1.0, (2,))\n",
    "\n",
    "t = time.time()\n",
    "dnn = DNN(hidden_depth=5, num_neuron=32, input=10, output=2, activation=Sigmoid)\n",
    "loss_obj = MeanSquaredError()\n",
    "for epoch in range(100):\n",
    "    loss = gradient_descent(dnn, x, y, loss_obj, alpha=0.01)\n",
    "    print('Epoch {}: Test loss {}'.format(epoch, loss))\n",
    "print('{} seconds elapsed.'.format(time.time() - t))"
   ]
  }
 ],
 "metadata": {
  "kernelspec": {
   "display_name": "Python 3",
   "language": "python",
   "name": "python3"
  },
  "language_info": {
   "codemirror_mode": {
    "name": "ipython",
    "version": 3
   },
   "file_extension": ".py",
   "mimetype": "text/x-python",
   "name": "python",
   "nbconvert_exporter": "python",
   "pygments_lexer": "ipython3",
   "version": "3.8.8"
  }
 },
 "nbformat": 4,
 "nbformat_minor": 2
}
