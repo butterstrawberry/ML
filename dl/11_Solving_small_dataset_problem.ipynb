{
 "cells": [
  {
   "cell_type": "markdown",
   "metadata": {},
   "source": [
    "# 실전 문제 해결 (부족한 데이터셋)"
   ]
  },
  {
   "cell_type": "code",
   "execution_count": 1,
   "metadata": {},
   "outputs": [],
   "source": [
    "import tensorflow as tf\n",
    "import numpy as np\n",
    "import random\n",
    "\n",
    "from imblearn.over_sampling import BorderlineSMOTE"
   ]
  },
  {
   "cell_type": "markdown",
   "metadata": {},
   "source": [
    "## 하이퍼 파라미터"
   ]
  },
  {
   "cell_type": "code",
   "execution_count": 2,
   "metadata": {},
   "outputs": [],
   "source": [
    "EPOCHS = 50"
   ]
  },
  {
   "cell_type": "markdown",
   "metadata": {},
   "source": [
    "## 모델 정의"
   ]
  },
  {
   "cell_type": "code",
   "execution_count": 3,
   "metadata": {},
   "outputs": [],
   "source": [
    "class MyModel(tf.keras.Model):\n",
    "    def __init__(self):\n",
    "        super(MyModel, self).__init__()\n",
    "        self.flatten = tf.keras.layers.Flatten()\n",
    "        self.dense1 = tf.keras.layers.Dense(1024, activation='relu')\n",
    "        self.dense2 = tf.keras.layers.Dense(1, activation='sigmoid')\n",
    "\n",
    "    def call(self, x, training=False, mask=None):\n",
    "        x = self.flatten(x)\n",
    "        x = self.dense1(x)\n",
    "        return self.dense2(x)"
   ]
  },
  {
   "cell_type": "markdown",
   "metadata": {},
   "source": [
    "## 데이터셋 준비 (불균형한 데이터셋)"
   ]
  },
  {
   "cell_type": "code",
   "execution_count": 4,
   "metadata": {},
   "outputs": [],
   "source": [
    "cifar10 = tf.keras.datasets.cifar10 # 32x32x3\n",
    "\n",
    "(x_train, y_train), (x_test, y_test) = cifar10.load_data()\n",
    "x_train, x_test = x_train / 255.0, x_test / 255.0\n",
    "\n",
    "# TODO: 학습 데이터를 Imbalanced small dataset으로 변형하기\n",
    "x_train_small = list()\n",
    "y_train_small = list()\n",
    "for x, y in zip(x_train, y_train):\n",
    "    if (y == 0 and random.randint(0, 100) < 10) or y == 1:\n",
    "        x_train_small.append(x[:])\n",
    "        y_train_small.append(y)\n",
    "\n",
    "x_test_small = list()\n",
    "y_test_small = list()\n",
    "for x, y in zip(x_test, y_test):\n",
    "    if y == 0 or y == 1:\n",
    "        x_test_small.append(x[:])\n",
    "        y_test_small.append(y)\n",
    "        \n",
    "x_train = np.stack(x_train_small, axis=0)\n",
    "y_train = np.stack(y_train_small, axis=0)\n",
    "\n",
    "x_test = np.stack(x_test_small, axis=0)\n",
    "y_test = np.stack(y_test_small, axis=0)\n",
    "    \n",
    "train_ds = tf.data.Dataset.from_tensor_slices((x_train, y_train)).shuffle(10000).batch(32).prefetch(2048)\n",
    "test_ds = tf.data.Dataset.from_tensor_slices((x_test, y_test)).batch(32).prefetch(2048)"
   ]
  },
  {
   "cell_type": "markdown",
   "metadata": {},
   "source": [
    "## Keras API 모델 학습 (불균형한 데이터셋)"
   ]
  },
  {
   "cell_type": "code",
   "execution_count": 5,
   "metadata": {
    "scrolled": true
   },
   "outputs": [
    {
     "name": "stdout",
     "output_type": "stream",
     "text": [
      "Epoch 1/50\n",
      "171/171 [==============================] - 4s 17ms/step - loss: 0.4672 - accuracy: 0.9062 - precision: 0.9278 - recall: 0.9734 - val_loss: 0.6187 - val_accuracy: 0.6980 - val_precision: 0.6304 - val_recall: 0.9570\n",
      "Epoch 2/50\n",
      "171/171 [==============================] - 3s 15ms/step - loss: 0.2311 - accuracy: 0.9249 - precision: 0.9347 - recall: 0.9870 - val_loss: 1.1845 - val_accuracy: 0.5765 - val_precision: 0.5419 - val_recall: 0.9900\n",
      "Epoch 3/50\n",
      "171/171 [==============================] - 3s 16ms/step - loss: 0.2254 - accuracy: 0.9283 - precision: 0.9404 - recall: 0.9842 - val_loss: 0.8613 - val_accuracy: 0.6455 - val_precision: 0.5866 - val_recall: 0.9860\n",
      "Epoch 4/50\n",
      "171/171 [==============================] - 3s 15ms/step - loss: 0.2064 - accuracy: 0.9304 - precision: 0.9425 - recall: 0.9840 - val_loss: 0.7059 - val_accuracy: 0.6650 - val_precision: 0.6002 - val_recall: 0.9880\n",
      "Epoch 5/50\n",
      "171/171 [==============================] - 3s 15ms/step - loss: 0.2002 - accuracy: 0.9326 - precision: 0.9444 - recall: 0.9844 - val_loss: 1.1664 - val_accuracy: 0.5580 - val_precision: 0.5309 - val_recall: 0.9960\n",
      "Epoch 6/50\n",
      "171/171 [==============================] - 3s 16ms/step - loss: 0.2089 - accuracy: 0.9329 - precision: 0.9440 - recall: 0.9852 - val_loss: 0.6908 - val_accuracy: 0.6915 - val_precision: 0.6201 - val_recall: 0.9890\n",
      "Epoch 7/50\n",
      "171/171 [==============================] - 3s 15ms/step - loss: 0.1875 - accuracy: 0.9366 - precision: 0.9477 - recall: 0.9852 - val_loss: 0.5929 - val_accuracy: 0.7390 - val_precision: 0.6613 - val_recall: 0.9800\n",
      "Epoch 8/50\n",
      "171/171 [==============================] - 3s 15ms/step - loss: 0.1834 - accuracy: 0.9368 - precision: 0.9492 - recall: 0.9836 - val_loss: 0.6885 - val_accuracy: 0.6890 - val_precision: 0.6186 - val_recall: 0.9860\n",
      "Epoch 9/50\n",
      "171/171 [==============================] - 3s 16ms/step - loss: 0.1789 - accuracy: 0.9386 - precision: 0.9490 - recall: 0.9860 - val_loss: 0.7208 - val_accuracy: 0.6750 - val_precision: 0.6075 - val_recall: 0.9890\n",
      "Epoch 10/50\n",
      "171/171 [==============================] - 3s 16ms/step - loss: 0.1643 - accuracy: 0.9419 - precision: 0.9530 - recall: 0.9852 - val_loss: 0.7742 - val_accuracy: 0.6650 - val_precision: 0.6004 - val_recall: 0.9870\n",
      "Epoch 11/50\n",
      "171/171 [==============================] - 3s 15ms/step - loss: 0.1682 - accuracy: 0.9408 - precision: 0.9503 - recall: 0.9870 - val_loss: 0.3935 - val_accuracy: 0.8215 - val_precision: 0.7779 - val_recall: 0.9000\n",
      "Epoch 12/50\n",
      "171/171 [==============================] - 3s 15ms/step - loss: 0.1618 - accuracy: 0.9423 - precision: 0.9539 - recall: 0.9846 - val_loss: 1.0059 - val_accuracy: 0.6370 - val_precision: 0.5802 - val_recall: 0.9910\n",
      "Epoch 13/50\n",
      "171/171 [==============================] - 3s 15ms/step - loss: 0.1570 - accuracy: 0.9452 - precision: 0.9544 - recall: 0.9874 - val_loss: 0.5543 - val_accuracy: 0.7640 - val_precision: 0.6857 - val_recall: 0.9750\n",
      "Epoch 14/50\n",
      "171/171 [==============================] - 3s 15ms/step - loss: 0.1555 - accuracy: 0.9476 - precision: 0.9575 - recall: 0.9866 - val_loss: 0.5722 - val_accuracy: 0.7490 - val_precision: 0.6703 - val_recall: 0.9800\n",
      "Epoch 15/50\n",
      "171/171 [==============================] - 3s 15ms/step - loss: 0.1447 - accuracy: 0.9467 - precision: 0.9562 - recall: 0.9870 - val_loss: 0.8267 - val_accuracy: 0.7075 - val_precision: 0.6326 - val_recall: 0.9900\n",
      "Epoch 16/50\n",
      "171/171 [==============================] - 3s 15ms/step - loss: 0.1466 - accuracy: 0.9487 - precision: 0.9602 - recall: 0.9848 - val_loss: 0.5510 - val_accuracy: 0.7550 - val_precision: 0.6763 - val_recall: 0.9780\n",
      "Epoch 17/50\n",
      "171/171 [==============================] - 3s 15ms/step - loss: 0.1556 - accuracy: 0.9439 - precision: 0.9534 - recall: 0.9870 - val_loss: 0.6942 - val_accuracy: 0.7150 - val_precision: 0.6391 - val_recall: 0.9880\n",
      "Epoch 18/50\n",
      "171/171 [==============================] - 3s 15ms/step - loss: 0.1369 - accuracy: 0.9511 - precision: 0.9592 - recall: 0.9886 - val_loss: 0.5466 - val_accuracy: 0.7845 - val_precision: 0.7057 - val_recall: 0.9760\n",
      "Epoch 19/50\n",
      "171/171 [==============================] - 3s 15ms/step - loss: 0.1289 - accuracy: 0.9518 - precision: 0.9618 - recall: 0.9866 - val_loss: 0.6408 - val_accuracy: 0.7525 - val_precision: 0.6726 - val_recall: 0.9840\n",
      "Epoch 20/50\n",
      "171/171 [==============================] - 3s 16ms/step - loss: 0.1294 - accuracy: 0.9527 - precision: 0.9611 - recall: 0.9884 - val_loss: 0.4405 - val_accuracy: 0.8230 - val_precision: 0.7543 - val_recall: 0.9580\n",
      "Epoch 21/50\n",
      "171/171 [==============================] - 3s 16ms/step - loss: 0.1314 - accuracy: 0.9520 - precision: 0.9622 - recall: 0.9864 - val_loss: 0.8493 - val_accuracy: 0.6855 - val_precision: 0.6149 - val_recall: 0.9930\n",
      "Epoch 22/50\n",
      "171/171 [==============================] - 3s 15ms/step - loss: 0.1267 - accuracy: 0.9518 - precision: 0.9618 - recall: 0.9866 - val_loss: 0.5325 - val_accuracy: 0.7835 - val_precision: 0.7044 - val_recall: 0.9770\n",
      "Epoch 23/50\n",
      "171/171 [==============================] - 3s 15ms/step - loss: 0.1211 - accuracy: 0.9579 - precision: 0.9651 - recall: 0.9898 - val_loss: 0.6561 - val_accuracy: 0.7580 - val_precision: 0.6784 - val_recall: 0.9810\n",
      "Epoch 24/50\n",
      "171/171 [==============================] - 3s 15ms/step - loss: 0.1182 - accuracy: 0.9547 - precision: 0.9639 - recall: 0.9876 - val_loss: 0.5215 - val_accuracy: 0.8040 - val_precision: 0.7262 - val_recall: 0.9760\n",
      "Epoch 25/50\n",
      "171/171 [==============================] - 3s 16ms/step - loss: 0.1255 - accuracy: 0.9535 - precision: 0.9635 - recall: 0.9866 - val_loss: 0.9743 - val_accuracy: 0.6400 - val_precision: 0.5816 - val_recall: 0.9980\n",
      "Epoch 26/50\n",
      "171/171 [==============================] - 3s 15ms/step - loss: 0.1065 - accuracy: 0.9591 - precision: 0.9679 - recall: 0.9882 - val_loss: 0.4740 - val_accuracy: 0.8220 - val_precision: 0.7488 - val_recall: 0.9690\n",
      "Epoch 27/50\n",
      "171/171 [==============================] - 3s 15ms/step - loss: 0.1068 - accuracy: 0.9612 - precision: 0.9683 - recall: 0.9900 - val_loss: 0.4757 - val_accuracy: 0.8285 - val_precision: 0.7568 - val_recall: 0.9680\n",
      "Epoch 28/50\n",
      "171/171 [==============================] - 3s 15ms/step - loss: 0.1072 - accuracy: 0.9599 - precision: 0.9684 - recall: 0.9884 - val_loss: 0.8063 - val_accuracy: 0.7320 - val_precision: 0.6534 - val_recall: 0.9880\n",
      "Epoch 29/50\n",
      "171/171 [==============================] - 3s 15ms/step - loss: 0.0954 - accuracy: 0.9630 - precision: 0.9704 - recall: 0.9898 - val_loss: 0.6483 - val_accuracy: 0.7855 - val_precision: 0.7041 - val_recall: 0.9850\n",
      "Epoch 30/50\n",
      "171/171 [==============================] - 3s 15ms/step - loss: 0.0977 - accuracy: 0.9604 - precision: 0.9687 - recall: 0.9888 - val_loss: 0.4992 - val_accuracy: 0.8230 - val_precision: 0.7496 - val_recall: 0.9700\n",
      "Epoch 31/50\n",
      "171/171 [==============================] - 3s 15ms/step - loss: 0.1005 - accuracy: 0.9593 - precision: 0.9697 - recall: 0.9864 - val_loss: 0.6156 - val_accuracy: 0.7995 - val_precision: 0.7230 - val_recall: 0.9710\n",
      "Epoch 32/50\n",
      "171/171 [==============================] - 3s 15ms/step - loss: 0.1084 - accuracy: 0.9593 - precision: 0.9703 - recall: 0.9858 - val_loss: 0.8714 - val_accuracy: 0.7065 - val_precision: 0.6311 - val_recall: 0.9940\n",
      "Epoch 33/50\n",
      "171/171 [==============================] - 3s 16ms/step - loss: 0.0950 - accuracy: 0.9659 - precision: 0.9723 - recall: 0.9910 - val_loss: 0.6435 - val_accuracy: 0.7775 - val_precision: 0.6972 - val_recall: 0.9810\n",
      "Epoch 34/50\n",
      "171/171 [==============================] - 3s 16ms/step - loss: 0.0838 - accuracy: 0.9677 - precision: 0.9744 - recall: 0.9908 - val_loss: 0.8354 - val_accuracy: 0.7460 - val_precision: 0.6664 - val_recall: 0.9850\n",
      "Epoch 35/50\n",
      "171/171 [==============================] - 3s 17ms/step - loss: 0.0895 - accuracy: 0.9666 - precision: 0.9746 - recall: 0.9894 - val_loss: 1.0249 - val_accuracy: 0.6860 - val_precision: 0.6152 - val_recall: 0.9930\n",
      "Epoch 36/50\n",
      "171/171 [==============================] - 3s 15ms/step - loss: 0.0850 - accuracy: 0.9676 - precision: 0.9744 - recall: 0.9906 - val_loss: 0.4484 - val_accuracy: 0.8510 - val_precision: 0.8084 - val_recall: 0.9200\n",
      "Epoch 37/50\n"
     ]
    },
    {
     "name": "stdout",
     "output_type": "stream",
     "text": [
      "171/171 [==============================] - 3s 16ms/step - loss: 0.0923 - accuracy: 0.9637 - precision: 0.9728 - recall: 0.9880 - val_loss: 0.5915 - val_accuracy: 0.8060 - val_precision: 0.7287 - val_recall: 0.9750\n",
      "Epoch 38/50\n",
      "171/171 [==============================] - 3s 15ms/step - loss: 0.0762 - accuracy: 0.9710 - precision: 0.9777 - recall: 0.9910 - val_loss: 0.6919 - val_accuracy: 0.7900 - val_precision: 0.7101 - val_recall: 0.9800\n",
      "Epoch 39/50\n",
      "171/171 [==============================] - 3s 15ms/step - loss: 0.0853 - accuracy: 0.9650 - precision: 0.9751 - recall: 0.9870 - val_loss: 0.7745 - val_accuracy: 0.7720 - val_precision: 0.6913 - val_recall: 0.9830\n",
      "Epoch 40/50\n",
      "171/171 [==============================] - 3s 15ms/step - loss: 0.0787 - accuracy: 0.9705 - precision: 0.9775 - recall: 0.9906 - val_loss: 0.5443 - val_accuracy: 0.8295 - val_precision: 0.7572 - val_recall: 0.9700\n",
      "Epoch 41/50\n",
      "171/171 [==============================] - 3s 16ms/step - loss: 0.0770 - accuracy: 0.9718 - precision: 0.9789 - recall: 0.9906 - val_loss: 0.9087 - val_accuracy: 0.7320 - val_precision: 0.6536 - val_recall: 0.9870\n",
      "Epoch 42/50\n",
      "171/171 [==============================] - 3s 16ms/step - loss: 0.0735 - accuracy: 0.9718 - precision: 0.9792 - recall: 0.9902 - val_loss: 0.4582 - val_accuracy: 0.8525 - val_precision: 0.7882 - val_recall: 0.9640\n",
      "Epoch 43/50\n",
      "171/171 [==============================] - 3s 15ms/step - loss: 0.0752 - accuracy: 0.9714 - precision: 0.9796 - recall: 0.9894 - val_loss: 0.8861 - val_accuracy: 0.7515 - val_precision: 0.6712 - val_recall: 0.9860\n",
      "Epoch 44/50\n",
      "171/171 [==============================] - 3s 16ms/step - loss: 0.0678 - accuracy: 0.9754 - precision: 0.9820 - recall: 0.9914 - val_loss: 0.6538 - val_accuracy: 0.8020 - val_precision: 0.7240 - val_recall: 0.9760\n",
      "Epoch 45/50\n",
      "171/171 [==============================] - 3s 16ms/step - loss: 0.0686 - accuracy: 0.9720 - precision: 0.9798 - recall: 0.9898 - val_loss: 0.7662 - val_accuracy: 0.7810 - val_precision: 0.7010 - val_recall: 0.9800\n",
      "Epoch 46/50\n",
      "171/171 [==============================] - 3s 16ms/step - loss: 0.0643 - accuracy: 0.9760 - precision: 0.9827 - recall: 0.9912 - val_loss: 0.7872 - val_accuracy: 0.7935 - val_precision: 0.7131 - val_recall: 0.9820\n",
      "Epoch 47/50\n",
      "171/171 [==============================] - 3s 15ms/step - loss: 0.0591 - accuracy: 0.9767 - precision: 0.9830 - recall: 0.9918 - val_loss: 0.6989 - val_accuracy: 0.8020 - val_precision: 0.7234 - val_recall: 0.9780\n",
      "Epoch 48/50\n",
      "171/171 [==============================] - 3s 16ms/step - loss: 0.0657 - accuracy: 0.9743 - precision: 0.9812 - recall: 0.9910 - val_loss: 0.5462 - val_accuracy: 0.8460 - val_precision: 0.7786 - val_recall: 0.9670\n",
      "Epoch 49/50\n",
      "171/171 [==============================] - 3s 16ms/step - loss: 0.0596 - accuracy: 0.9776 - precision: 0.9841 - recall: 0.9916 - val_loss: 0.8139 - val_accuracy: 0.7835 - val_precision: 0.7029 - val_recall: 0.9820\n",
      "Epoch 50/50\n",
      "171/171 [==============================] - 3s 16ms/step - loss: 0.0573 - accuracy: 0.9780 - precision: 0.9836 - recall: 0.9926 - val_loss: 0.5566 - val_accuracy: 0.8435 - val_precision: 0.7777 - val_recall: 0.9620\n"
     ]
    },
    {
     "data": {
      "text/plain": [
       "<tensorflow.python.keras.callbacks.History at 0x1cab83ddca0>"
      ]
     },
     "execution_count": 5,
     "metadata": {},
     "output_type": "execute_result"
    }
   ],
   "source": [
    "model = MyModel()\n",
    "model.compile(optimizer='adam',\n",
    "              loss='binary_crossentropy',\n",
    "              metrics=['accuracy',\n",
    "                             tf.keras.metrics.Precision(name='precision'),\n",
    "                             tf.keras.metrics.Recall(name='recall')])\n",
    "model.fit(train_ds, validation_data=test_ds, epochs=EPOCHS)"
   ]
  },
  {
   "cell_type": "markdown",
   "metadata": {},
   "source": [
    "## 데이터셋 준비 (BorderlineSMOTE)"
   ]
  },
  {
   "cell_type": "code",
   "execution_count": 6,
   "metadata": {},
   "outputs": [],
   "source": [
    "# TODO: BorderlineSMOTE 적용하기\n",
    "x_train = x_train.reshape((x_train.shape[0], x_train.shape[1] * x_train.shape[2] * x_train.shape[3])).astype(np.float32)\n",
    "x_test = x_test.reshape((x_test.shape[0], x_test.shape[1] * x_test.shape[2] * x_test.shape[3])).astype(np.float32)\n",
    "\n",
    "smote = BorderlineSMOTE()\n",
    "x_train, y_train = smote.fit_resample(x_train, y_train)\n",
    "\n",
    "train_ds = tf.data.Dataset.from_tensor_slices((x_train, y_train)).shuffle(10000).batch(32).prefetch(2048)\n",
    "test_ds = tf.data.Dataset.from_tensor_slices((x_test, y_test)).batch(32).prefetch(2048)"
   ]
  },
  {
   "cell_type": "markdown",
   "metadata": {},
   "source": [
    "## Keras API 모델 학습 (BorderlineSMOTE)"
   ]
  },
  {
   "cell_type": "code",
   "execution_count": 7,
   "metadata": {},
   "outputs": [
    {
     "name": "stdout",
     "output_type": "stream",
     "text": [
      "Epoch 1/50\n",
      "313/313 [==============================] - 6s 15ms/step - loss: 0.5722 - accuracy: 0.7618 - precision: 0.7789 - recall: 0.7312 - val_loss: 0.5040 - val_accuracy: 0.7585 - val_precision: 0.9033 - val_recall: 0.5790\n",
      "Epoch 2/50\n",
      "313/313 [==============================] - 4s 14ms/step - loss: 0.3879 - accuracy: 0.8365 - precision: 0.8625 - recall: 0.8006 - val_loss: 0.3834 - val_accuracy: 0.8395 - val_precision: 0.8511 - val_recall: 0.8230\n",
      "Epoch 3/50\n",
      "313/313 [==============================] - 4s 14ms/step - loss: 0.2955 - accuracy: 0.8848 - precision: 0.9123 - recall: 0.8514 - val_loss: 0.5104 - val_accuracy: 0.7965 - val_precision: 0.7276 - val_recall: 0.9480\n",
      "Epoch 4/50\n",
      "313/313 [==============================] - 5s 14ms/step - loss: 0.2742 - accuracy: 0.8934 - precision: 0.9169 - recall: 0.8652 - val_loss: 0.4212 - val_accuracy: 0.8295 - val_precision: 0.7960 - val_recall: 0.8860\n",
      "Epoch 5/50\n",
      "313/313 [==============================] - 5s 15ms/step - loss: 0.2336 - accuracy: 0.9102 - precision: 0.9353 - recall: 0.8814 - val_loss: 0.5986 - val_accuracy: 0.7920 - val_precision: 0.7199 - val_recall: 0.9560\n",
      "Epoch 6/50\n",
      "313/313 [==============================] - 5s 16ms/step - loss: 0.1985 - accuracy: 0.9280 - precision: 0.9496 - recall: 0.9040 - val_loss: 0.4633 - val_accuracy: 0.8390 - val_precision: 0.7863 - val_recall: 0.9310\n",
      "Epoch 7/50\n",
      "313/313 [==============================] - 5s 15ms/step - loss: 0.1689 - accuracy: 0.9399 - precision: 0.9602 - recall: 0.9178 - val_loss: 0.4057 - val_accuracy: 0.8465 - val_precision: 0.8532 - val_recall: 0.8370\n",
      "Epoch 8/50\n",
      "313/313 [==============================] - 5s 15ms/step - loss: 0.1710 - accuracy: 0.9404 - precision: 0.9603 - recall: 0.9188 - val_loss: 0.4229 - val_accuracy: 0.8540 - val_precision: 0.8207 - val_recall: 0.9060\n",
      "Epoch 9/50\n",
      "313/313 [==============================] - 4s 14ms/step - loss: 0.1455 - accuracy: 0.9508 - precision: 0.9651 - recall: 0.9354 - val_loss: 0.4864 - val_accuracy: 0.8505 - val_precision: 0.8088 - val_recall: 0.9180\n",
      "Epoch 10/50\n",
      "313/313 [==============================] - 5s 15ms/step - loss: 0.1476 - accuracy: 0.9502 - precision: 0.9651 - recall: 0.9342 - val_loss: 0.4128 - val_accuracy: 0.8530 - val_precision: 0.8454 - val_recall: 0.8640\n",
      "Epoch 11/50\n",
      "313/313 [==============================] - 5s 14ms/step - loss: 0.1206 - accuracy: 0.9603 - precision: 0.9739 - recall: 0.9460 - val_loss: 0.4373 - val_accuracy: 0.8530 - val_precision: 0.8516 - val_recall: 0.8550\n",
      "Epoch 12/50\n",
      "313/313 [==============================] - 5s 15ms/step - loss: 0.1078 - accuracy: 0.9643 - precision: 0.9766 - recall: 0.9514 - val_loss: 0.4836 - val_accuracy: 0.8610 - val_precision: 0.8172 - val_recall: 0.9300\n",
      "Epoch 13/50\n",
      "313/313 [==============================] - 4s 14ms/step - loss: 0.1001 - accuracy: 0.9680 - precision: 0.9807 - recall: 0.9548 - val_loss: 0.4979 - val_accuracy: 0.8615 - val_precision: 0.8174 - val_recall: 0.9310\n",
      "Epoch 14/50\n",
      "313/313 [==============================] - 4s 14ms/step - loss: 0.0846 - accuracy: 0.9743 - precision: 0.9831 - recall: 0.9652 - val_loss: 0.6724 - val_accuracy: 0.8195 - val_precision: 0.7510 - val_recall: 0.9560\n",
      "Epoch 15/50\n",
      "313/313 [==============================] - 4s 14ms/step - loss: 0.0811 - accuracy: 0.9742 - precision: 0.9835 - recall: 0.9646 - val_loss: 0.8531 - val_accuracy: 0.8075 - val_precision: 0.7293 - val_recall: 0.9780\n",
      "Epoch 16/50\n",
      "313/313 [==============================] - 4s 14ms/step - loss: 0.0850 - accuracy: 0.9723 - precision: 0.9824 - recall: 0.9618 - val_loss: 0.8531 - val_accuracy: 0.8030 - val_precision: 0.7244 - val_recall: 0.9780\n",
      "Epoch 17/50\n",
      "313/313 [==============================] - 4s 14ms/step - loss: 0.0769 - accuracy: 0.9748 - precision: 0.9825 - recall: 0.9668 - val_loss: 0.5679 - val_accuracy: 0.8600 - val_precision: 0.8147 - val_recall: 0.9320\n",
      "Epoch 18/50\n",
      "313/313 [==============================] - 4s 14ms/step - loss: 0.0682 - accuracy: 0.9791 - precision: 0.9864 - recall: 0.9716 - val_loss: 0.5839 - val_accuracy: 0.8515 - val_precision: 0.7976 - val_recall: 0.9420\n",
      "Epoch 19/50\n",
      "313/313 [==============================] - 4s 14ms/step - loss: 0.0711 - accuracy: 0.9777 - precision: 0.9838 - recall: 0.9714 - val_loss: 0.7047 - val_accuracy: 0.8360 - val_precision: 0.7675 - val_recall: 0.9640\n",
      "Epoch 20/50\n",
      "313/313 [==============================] - 4s 14ms/step - loss: 0.0668 - accuracy: 0.9791 - precision: 0.9864 - recall: 0.9716 - val_loss: 0.6409 - val_accuracy: 0.8370 - val_precision: 0.7900 - val_recall: 0.9180\n",
      "Epoch 21/50\n",
      "313/313 [==============================] - 4s 14ms/step - loss: 0.0659 - accuracy: 0.9786 - precision: 0.9846 - recall: 0.9724 - val_loss: 0.6117 - val_accuracy: 0.8550 - val_precision: 0.8120 - val_recall: 0.9240\n",
      "Epoch 22/50\n",
      "313/313 [==============================] - 4s 14ms/step - loss: 0.0554 - accuracy: 0.9816 - precision: 0.9876 - recall: 0.9754 - val_loss: 0.8399 - val_accuracy: 0.8235 - val_precision: 0.7514 - val_recall: 0.9670\n",
      "Epoch 23/50\n",
      "313/313 [==============================] - 4s 14ms/step - loss: 0.0559 - accuracy: 0.9822 - precision: 0.9877 - recall: 0.9766 - val_loss: 0.8014 - val_accuracy: 0.8420 - val_precision: 0.7732 - val_recall: 0.9680\n",
      "Epoch 24/50\n",
      "313/313 [==============================] - 4s 14ms/step - loss: 0.0521 - accuracy: 0.9828 - precision: 0.9875 - recall: 0.9780 - val_loss: 0.5499 - val_accuracy: 0.8630 - val_precision: 0.8349 - val_recall: 0.9050\n",
      "Epoch 25/50\n",
      "313/313 [==============================] - 5s 14ms/step - loss: 0.0455 - accuracy: 0.9852 - precision: 0.9891 - recall: 0.9812 - val_loss: 0.8792 - val_accuracy: 0.8200 - val_precision: 0.7484 - val_recall: 0.9640\n",
      "Epoch 26/50\n",
      "313/313 [==============================] - 4s 14ms/step - loss: 0.0440 - accuracy: 0.9862 - precision: 0.9893 - recall: 0.9830 - val_loss: 0.9731 - val_accuracy: 0.8010 - val_precision: 0.7230 - val_recall: 0.9760\n",
      "Epoch 27/50\n",
      "313/313 [==============================] - 4s 14ms/step - loss: 0.0491 - accuracy: 0.9842 - precision: 0.9889 - recall: 0.9794 - val_loss: 1.0695 - val_accuracy: 0.8080 - val_precision: 0.7292 - val_recall: 0.9800\n",
      "Epoch 28/50\n",
      "313/313 [==============================] - 4s 14ms/step - loss: 0.0399 - accuracy: 0.9868 - precision: 0.9899 - recall: 0.9836 - val_loss: 0.7295 - val_accuracy: 0.8550 - val_precision: 0.7968 - val_recall: 0.9530\n",
      "Epoch 29/50\n",
      "313/313 [==============================] - 4s 14ms/step - loss: 0.0472 - accuracy: 0.9847 - precision: 0.9891 - recall: 0.9802 - val_loss: 0.9763 - val_accuracy: 0.8145 - val_precision: 0.7392 - val_recall: 0.9720\n",
      "Epoch 30/50\n",
      "313/313 [==============================] - 4s 14ms/step - loss: 0.0532 - accuracy: 0.9827 - precision: 0.9857 - recall: 0.9796 - val_loss: 0.8101 - val_accuracy: 0.8460 - val_precision: 0.7879 - val_recall: 0.9470\n",
      "Epoch 31/50\n",
      "313/313 [==============================] - 4s 14ms/step - loss: 0.0292 - accuracy: 0.9911 - precision: 0.9930 - recall: 0.9892 - val_loss: 0.5893 - val_accuracy: 0.8700 - val_precision: 0.8445 - val_recall: 0.9070\n",
      "Epoch 32/50\n",
      "313/313 [==============================] - 5s 14ms/step - loss: 0.0328 - accuracy: 0.9893 - precision: 0.9920 - recall: 0.9866 - val_loss: 0.7552 - val_accuracy: 0.8555 - val_precision: 0.8026 - val_recall: 0.9430\n",
      "Epoch 33/50\n",
      "313/313 [==============================] - 5s 15ms/step - loss: 0.0368 - accuracy: 0.9886 - precision: 0.9921 - recall: 0.9850 - val_loss: 1.5301 - val_accuracy: 0.7655 - val_precision: 0.6840 - val_recall: 0.9870\n",
      "Epoch 34/50\n",
      "313/313 [==============================] - 5s 15ms/step - loss: 0.0338 - accuracy: 0.9891 - precision: 0.9923 - recall: 0.9858 - val_loss: 0.9159 - val_accuracy: 0.8440 - val_precision: 0.7761 - val_recall: 0.9670\n",
      "Epoch 35/50\n",
      "313/313 [==============================] - 4s 14ms/step - loss: 0.0290 - accuracy: 0.9899 - precision: 0.9928 - recall: 0.9870 - val_loss: 0.9220 - val_accuracy: 0.8475 - val_precision: 0.7823 - val_recall: 0.9630\n",
      "Epoch 36/50\n",
      "313/313 [==============================] - 4s 14ms/step - loss: 0.0272 - accuracy: 0.9912 - precision: 0.9944 - recall: 0.9880 - val_loss: 1.1457 - val_accuracy: 0.8070 - val_precision: 0.7284 - val_recall: 0.9790\n",
      "Epoch 37/50\n"
     ]
    },
    {
     "name": "stdout",
     "output_type": "stream",
     "text": [
      "313/313 [==============================] - 4s 14ms/step - loss: 0.0335 - accuracy: 0.9887 - precision: 0.9910 - recall: 0.9864 - val_loss: 0.7650 - val_accuracy: 0.8700 - val_precision: 0.8234 - val_recall: 0.9420\n",
      "Epoch 38/50\n",
      "313/313 [==============================] - 4s 14ms/step - loss: 0.0290 - accuracy: 0.9909 - precision: 0.9936 - recall: 0.9882 - val_loss: 0.8987 - val_accuracy: 0.8510 - val_precision: 0.7920 - val_recall: 0.9520\n",
      "Epoch 39/50\n",
      "313/313 [==============================] - 4s 14ms/step - loss: 0.0291 - accuracy: 0.9904 - precision: 0.9932 - recall: 0.9876 - val_loss: 1.3216 - val_accuracy: 0.8125 - val_precision: 0.7337 - val_recall: 0.9810\n",
      "Epoch 40/50\n",
      "313/313 [==============================] - 4s 14ms/step - loss: 0.0265 - accuracy: 0.9908 - precision: 0.9928 - recall: 0.9888 - val_loss: 0.9568 - val_accuracy: 0.8370 - val_precision: 0.7731 - val_recall: 0.9540\n",
      "Epoch 41/50\n",
      "313/313 [==============================] - 4s 14ms/step - loss: 0.0405 - accuracy: 0.9872 - precision: 0.9899 - recall: 0.9844 - val_loss: 1.0478 - val_accuracy: 0.8305 - val_precision: 0.7617 - val_recall: 0.9620\n",
      "Epoch 42/50\n",
      "313/313 [==============================] - 4s 14ms/step - loss: 0.0238 - accuracy: 0.9917 - precision: 0.9936 - recall: 0.9898 - val_loss: 1.4887 - val_accuracy: 0.7935 - val_precision: 0.7135 - val_recall: 0.9810\n",
      "Epoch 43/50\n",
      "313/313 [==============================] - 4s 14ms/step - loss: 0.0262 - accuracy: 0.9907 - precision: 0.9930 - recall: 0.9884 - val_loss: 0.9759 - val_accuracy: 0.8440 - val_precision: 0.7765 - val_recall: 0.9660\n",
      "Epoch 44/50\n",
      "313/313 [==============================] - 4s 14ms/step - loss: 0.0409 - accuracy: 0.9846 - precision: 0.9875 - recall: 0.9816 - val_loss: 0.8726 - val_accuracy: 0.8415 - val_precision: 0.7853 - val_recall: 0.9400\n",
      "Epoch 45/50\n",
      "313/313 [==============================] - 4s 14ms/step - loss: 0.0180 - accuracy: 0.9942 - precision: 0.9970 - recall: 0.9914 - val_loss: 1.2718 - val_accuracy: 0.8150 - val_precision: 0.7401 - val_recall: 0.9710\n",
      "Epoch 46/50\n",
      "313/313 [==============================] - 4s 14ms/step - loss: 0.0110 - accuracy: 0.9962 - precision: 0.9972 - recall: 0.9952 - val_loss: 1.2051 - val_accuracy: 0.8270 - val_precision: 0.7535 - val_recall: 0.9720\n",
      "Epoch 47/50\n",
      "313/313 [==============================] - 4s 14ms/step - loss: 0.0224 - accuracy: 0.9925 - precision: 0.9948 - recall: 0.9902 - val_loss: 0.9936 - val_accuracy: 0.8455 - val_precision: 0.7848 - val_recall: 0.9520\n",
      "Epoch 48/50\n",
      "313/313 [==============================] - 4s 14ms/step - loss: 0.0202 - accuracy: 0.9931 - precision: 0.9944 - recall: 0.9918 - val_loss: 1.5191 - val_accuracy: 0.8040 - val_precision: 0.7242 - val_recall: 0.9820\n",
      "Epoch 49/50\n",
      "313/313 [==============================] - 4s 14ms/step - loss: 0.0278 - accuracy: 0.9905 - precision: 0.9924 - recall: 0.9886 - val_loss: 0.8748 - val_accuracy: 0.8585 - val_precision: 0.8099 - val_recall: 0.9370\n",
      "Epoch 50/50\n",
      "313/313 [==============================] - 4s 14ms/step - loss: 0.0184 - accuracy: 0.9939 - precision: 0.9954 - recall: 0.9924 - val_loss: 1.3908 - val_accuracy: 0.8115 - val_precision: 0.7354 - val_recall: 0.9730\n"
     ]
    },
    {
     "data": {
      "text/plain": [
       "<tensorflow.python.keras.callbacks.History at 0x1caaf1f9160>"
      ]
     },
     "execution_count": 7,
     "metadata": {},
     "output_type": "execute_result"
    }
   ],
   "source": [
    "model = MyModel()\n",
    "model.compile(optimizer='adam',\n",
    "              loss='binary_crossentropy',\n",
    "              metrics=['accuracy',\n",
    "                             tf.keras.metrics.Precision(name='precision'),\n",
    "                             tf.keras.metrics.Recall(name='recall')])\n",
    "model.fit(train_ds, validation_data=test_ds, epochs=EPOCHS)"
   ]
  }
 ],
 "metadata": {
  "kernelspec": {
   "display_name": "Python 3",
   "language": "python",
   "name": "python3"
  },
  "language_info": {
   "codemirror_mode": {
    "name": "ipython",
    "version": 3
   },
   "file_extension": ".py",
   "mimetype": "text/x-python",
   "name": "python",
   "nbconvert_exporter": "python",
   "pygments_lexer": "ipython3",
   "version": "3.8.8"
  }
 },
 "nbformat": 4,
 "nbformat_minor": 2
}
