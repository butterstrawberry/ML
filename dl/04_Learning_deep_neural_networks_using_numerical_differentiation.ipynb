{
 "cells": [
  {
   "cell_type": "markdown",
   "metadata": {},
   "source": [
    "## 수치 미분을 이용한 심층 신경망 학습"
   ]
  },
  {
   "cell_type": "code",
   "execution_count": 1,
   "metadata": {},
   "outputs": [],
   "source": [
    "import time\n",
    "import numpy as np"
   ]
  },
  {
   "cell_type": "markdown",
   "metadata": {},
   "source": [
    "## 유틸리티 함수"
   ]
  },
  {
   "cell_type": "code",
   "execution_count": 2,
   "metadata": {},
   "outputs": [],
   "source": [
    "epsilon = 0.0001\n",
    "\n",
    "def _t(x):\n",
    "    return np.transpose(x)\n",
    "\n",
    "def _m(A, B):\n",
    "    return np.matmul(A, B)\n",
    "\n",
    "def sigmoid(x):\n",
    "    return 1 / (1 + np.exp(-x))\n",
    "\n",
    "def mean_squared_error(h, y):\n",
    "    return 1 / 2 * np.mean(np.square(h - y))"
   ]
  },
  {
   "cell_type": "markdown",
   "metadata": {},
   "source": [
    "## 뉴런 구현"
   ]
  },
  {
   "cell_type": "code",
   "execution_count": 3,
   "metadata": {},
   "outputs": [],
   "source": [
    "class Neuron:\n",
    "    def __init__(self, W, b, a):\n",
    "        # Model Parameter\n",
    "        self.W = W\n",
    "        self.b = b\n",
    "        self.a = a\n",
    "        \n",
    "        # Gradients\n",
    "        self.dW = np.zeros_like(self.W)\n",
    "        self.db = np.zeros_like(self.b)\n",
    "\n",
    "    def __call__(self, x):\n",
    "        return self.a(_m(_t(self.W), x)) # activation((W^T)x + b)"
   ]
  },
  {
   "cell_type": "markdown",
   "metadata": {},
   "source": [
    "## 심층신경망 구현"
   ]
  },
  {
   "cell_type": "code",
   "execution_count": 4,
   "metadata": {},
   "outputs": [],
   "source": [
    "class DNN:\n",
    "    def __init__(self, hidden_depth, num_neuron, num_input, num_output, activation=sigmoid):\n",
    "        def init_var(i, o):\n",
    "            return np.random.normal(0.0, 0.01, (i, o)), np.zeros((o,))\n",
    "\n",
    "        self.sequence = list()\n",
    "        # First hidden layer\n",
    "        W, b = init_var(num_input, num_neuron)\n",
    "        self.sequence.append(Neuron(W, b, activation))\n",
    "            \n",
    "        # Hidden layers\n",
    "        for _ in range(hidden_depth - 1):\n",
    "            W, b = init_var(num_neuron, num_neuron)\n",
    "            self.sequence.append(Neuron(W, b, activation))\n",
    "\n",
    "        # Output layer\n",
    "        W, b = init_var(num_neuron, num_output)\n",
    "        self.sequence.append(Neuron(W, b, activation))\n",
    "\n",
    "    def __call__(self, x):\n",
    "        for layer in self.sequence:\n",
    "            x = layer(x)\n",
    "        return x\n",
    "\n",
    "    def calc_gradient(self, x, y, loss_func):\n",
    "        def get_new_sequence(layer_index, new_neuron):\n",
    "            new_sequence = list()\n",
    "            for i, layer in enumerate(self.sequence):\n",
    "                if i == layer_index:\n",
    "                    new_sequence.append(new_neuron)\n",
    "                else:\n",
    "                    new_sequence.append(layer)\n",
    "            return new_sequence\n",
    "        \n",
    "        def eval_sequence(x, sequence):\n",
    "            for layer in sequence:\n",
    "                x = layer(x)\n",
    "            return x\n",
    "        \n",
    "        loss = loss_func(self(x), y)\n",
    "        \n",
    "        for layer_id, layer in enumerate(self.sequence): # iterate layer\n",
    "            for w_i, w in enumerate(layer.W): # iterate W (row)\n",
    "                for w_j, ww in enumerate(w): # iterate W (col)\n",
    "                    W = np.copy(layer.W)\n",
    "                    W[w_i][w_j] = ww + epsilon\n",
    "                    \n",
    "                    new_neuron = Neuron(W, layer.b, layer.a)\n",
    "                    new_seq = get_new_sequence(layer_id, new_neuron)\n",
    "                    h = eval_sequence(x, new_seq)\n",
    "                    \n",
    "                    numerical_grad = (loss_func(h, y) - loss) / epsilon # (f(x+eps) - f(x)) / epsilon\n",
    "                    layer.dW[w_i][w_j] = numerical_grad\n",
    "                    \n",
    "                for b_i, bb in enumerate(layer.b): # iterate b\n",
    "                    b = np.copy(layer.b)\n",
    "                    b[b_i] = bb + epsilon\n",
    "                    \n",
    "                    new_neuron = Neuron(layer.W, b, layer.a)\n",
    "                    new_seq = get_new_sequence(layer_id, new_neuron)\n",
    "                    h = eval_sequence(x, new_seq)\n",
    "                    \n",
    "                    num_grad = (loss_func(h, y) - loss) / epsilon # (f(x+eps) - f(x)) / epsilon\n",
    "                    layer.db[b_i] = numerical_grad\n",
    "        return loss"
   ]
  },
  {
   "cell_type": "markdown",
   "metadata": {},
   "source": [
    "## 경사하강 학습법"
   ]
  },
  {
   "cell_type": "code",
   "execution_count": 5,
   "metadata": {},
   "outputs": [],
   "source": [
    "def gradient_descent(network, x, y, loss_obj, alpha=0.01):\n",
    "    loss = network.calc_gradient(x, y, loss_obj)\n",
    "    for layer in network.sequence:\n",
    "        layer.W += -alpha * layer.dW\n",
    "        layer.b += -alpha * layer.db\n",
    "    return loss"
   ]
  },
  {
   "cell_type": "markdown",
   "metadata": {},
   "source": [
    "## 동작 테스트"
   ]
  },
  {
   "cell_type": "code",
   "execution_count": 6,
   "metadata": {
    "scrolled": true
   },
   "outputs": [
    {
     "name": "stdout",
     "output_type": "stream",
     "text": [
      "Epoch 0: Test loss 0.7566042224874068\n",
      "Epoch 1: Test loss 0.7528112908515563\n",
      "Epoch 2: Test loss 0.7490379923929262\n",
      "Epoch 3: Test loss 0.7452847919788161\n",
      "Epoch 4: Test loss 0.7415521384456243\n",
      "Epoch 5: Test loss 0.7378404644333416\n",
      "Epoch 6: Test loss 0.7341501862501394\n",
      "Epoch 7: Test loss 0.7304817037664839\n",
      "Epoch 8: Test loss 0.7268354003372868\n",
      "Epoch 9: Test loss 0.7232116427530564\n",
      "Epoch 10: Test loss 0.7196107812177555\n",
      "Epoch 11: Test loss 0.7160331493544936\n",
      "Epoch 12: Test loss 0.7124790642360863\n",
      "Epoch 13: Test loss 0.708948826441546\n",
      "Epoch 14: Test loss 0.7054427201364741\n",
      "Epoch 15: Test loss 0.7019610131769094\n",
      "Epoch 16: Test loss 0.6985039572349552\n",
      "Epoch 17: Test loss 0.6950717879463968\n",
      "Epoch 18: Test loss 0.691664725077924\n",
      "Epoch 19: Test loss 0.6882829727135977\n",
      "Epoch 20: Test loss 0.6849267194594661\n",
      "Epoch 21: Test loss 0.6815961386647341\n",
      "Epoch 22: Test loss 0.6782913886590797\n",
      "Epoch 23: Test loss 0.6750126130042449\n",
      "Epoch 24: Test loss 0.6717599407595048\n",
      "Epoch 25: Test loss 0.6685334867592007\n",
      "Epoch 26: Test loss 0.6653333519019338\n",
      "Epoch 27: Test loss 0.6621596234497306\n",
      "Epoch 28: Test loss 0.6590123753364686\n",
      "Epoch 29: Test loss 0.6558916684846098\n",
      "Epoch 30: Test loss 0.6527975511289692\n",
      "Epoch 31: Test loss 0.649730059146381\n",
      "Epoch 32: Test loss 0.6466892163909044\n",
      "Epoch 33: Test loss 0.6436750350333347\n",
      "Epoch 34: Test loss 0.6406875159037061\n",
      "Epoch 35: Test loss 0.63772664883666\n",
      "Epoch 36: Test loss 0.6347924130185101\n",
      "Epoch 37: Test loss 0.6318847773352825\n",
      "Epoch 38: Test loss 0.6290037007205805\n",
      "Epoch 39: Test loss 0.6261491325035606\n",
      "Epoch 40: Test loss 0.6233210127554248\n",
      "Epoch 41: Test loss 0.6205192726340958\n",
      "Epoch 42: Test loss 0.6177438347266255\n",
      "Epoch 43: Test loss 0.6149946133889239\n",
      "Epoch 44: Test loss 0.6122715150817439\n",
      "Epoch 45: Test loss 0.6095744387027496\n",
      "Epoch 46: Test loss 0.6069032759147983\n",
      "Epoch 47: Test loss 0.6042579114690916\n",
      "Epoch 48: Test loss 0.6016382235232214\n",
      "Epoch 49: Test loss 0.5990440839542949\n",
      "Epoch 50: Test loss 0.5964753586658951\n",
      "Epoch 51: Test loss 0.5939319078893588\n",
      "Epoch 52: Test loss 0.5914135864788014\n",
      "Epoch 53: Test loss 0.5889202441997194\n",
      "Epoch 54: Test loss 0.5864517260113087\n",
      "Epoch 55: Test loss 0.5840078723416684\n",
      "Epoch 56: Test loss 0.5815885193566148\n",
      "Epoch 57: Test loss 0.5791934992211828\n",
      "Epoch 58: Test loss 0.5768226403544162\n",
      "Epoch 59: Test loss 0.5744757676768754\n",
      "Epoch 60: Test loss 0.5721527028512179\n",
      "Epoch 61: Test loss 0.569853264515708\n",
      "Epoch 62: Test loss 0.567577268510306\n",
      "Epoch 63: Test loss 0.5653245280960228\n",
      "Epoch 64: Test loss 0.563094854166917\n",
      "Epoch 65: Test loss 0.5608880554553736\n",
      "Epoch 66: Test loss 0.5587039387299991\n",
      "Epoch 67: Test loss 0.556542308987068\n",
      "Epoch 68: Test loss 0.5544029696347129\n",
      "Epoch 69: Test loss 0.5522857226706838\n",
      "Epoch 70: Test loss 0.5501903688533947\n",
      "Epoch 71: Test loss 0.5481167078663914\n",
      "Epoch 72: Test loss 0.5460645384764564\n",
      "Epoch 73: Test loss 0.5440336586852647\n",
      "Epoch 74: Test loss 0.5420238658750368\n",
      "Epoch 75: Test loss 0.5400349569481641\n",
      "Epoch 76: Test loss 0.5380667284606353\n",
      "Epoch 77: Test loss 0.5361189767499608\n",
      "Epoch 78: Test loss 0.5341914980573884\n",
      "Epoch 79: Test loss 0.5322840886444937\n",
      "Epoch 80: Test loss 0.5303965449044954\n",
      "Epoch 81: Test loss 0.528528663468277\n",
      "Epoch 82: Test loss 0.5266802413055282\n",
      "Epoch 83: Test loss 0.5248510758206631\n",
      "Epoch 84: Test loss 0.5230409649442175\n",
      "Epoch 85: Test loss 0.5212497072193103\n",
      "Epoch 86: Test loss 0.5194771018839494\n",
      "Epoch 87: Test loss 0.5177229489486364\n",
      "Epoch 88: Test loss 0.5159870492699926\n",
      "Epoch 89: Test loss 0.5142692046200901\n",
      "Epoch 90: Test loss 0.5125692177520601\n",
      "Epoch 91: Test loss 0.5108868924616993\n",
      "Epoch 92: Test loss 0.5092220336456309\n",
      "Epoch 93: Test loss 0.5075744473556167\n",
      "Epoch 94: Test loss 0.5059439408496451\n",
      "Epoch 95: Test loss 0.5043303226397218\n",
      "Epoch 96: Test loss 0.5027334025363376\n",
      "Epoch 97: Test loss 0.5011529916902215\n",
      "Epoch 98: Test loss 0.49958890263074396\n",
      "Epoch 99: Test loss 0.49804094930196713\n",
      "57.84595036506653 seconds elapsed.\n"
     ]
    }
   ],
   "source": [
    "x = np.random.normal(0.0, 1.0, (10,))\n",
    "y = np.random.normal(0.0, 1.0, (2,))\n",
    "\n",
    "dnn = DNN(hidden_depth=5, num_neuron=32, num_input=10, num_output=2, activation=sigmoid)\n",
    "\n",
    "t = time.time()\n",
    "for epoch in range(100):\n",
    "    loss = gradient_descent(dnn, x, y, mean_squared_error, 0.01)\n",
    "    print('Epoch {}: Test loss {}'.format(epoch, loss))\n",
    "print('{} seconds elapsed.'.format(time.time() - t))"
   ]
  }
 ],
 "metadata": {
  "kernelspec": {
   "display_name": "Python 3",
   "language": "python",
   "name": "python3"
  },
  "language_info": {
   "codemirror_mode": {
    "name": "ipython",
    "version": 3
   },
   "file_extension": ".py",
   "mimetype": "text/x-python",
   "name": "python",
   "nbconvert_exporter": "python",
   "pygments_lexer": "ipython3",
   "version": "3.8.8"
  }
 },
 "nbformat": 4,
 "nbformat_minor": 2
}
